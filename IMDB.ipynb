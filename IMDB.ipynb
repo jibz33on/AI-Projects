{
  "nbformat": 4,
  "nbformat_minor": 0,
  "metadata": {
    "colab": {
      "provenance": [],
      "toc_visible": true,
      "gpuType": "T4",
      "authorship_tag": "ABX9TyNZnbb+xKCSYbGsdbMzlP/c",
      "include_colab_link": true
    },
    "kernelspec": {
      "name": "python3",
      "display_name": "Python 3"
    },
    "language_info": {
      "name": "python"
    },
    "accelerator": "GPU"
  },
  "cells": [
    {
      "cell_type": "markdown",
      "metadata": {
        "id": "view-in-github",
        "colab_type": "text"
      },
      "source": [
        "<a href=\"https://colab.research.google.com/github/jibz33on/AI-Projects/blob/main/IMDB.ipynb\" target=\"_parent\"><img src=\"https://colab.research.google.com/assets/colab-badge.svg\" alt=\"Open In Colab\"/></a>"
      ]
    },
    {
      "cell_type": "markdown",
      "source": [
        "# **Sentiment Analysis Using LSTM & BiLSTM**"
      ],
      "metadata": {
        "id": "IC0wFNUloCmh"
      }
    },
    {
      "cell_type": "markdown",
      "source": [
        "**Overview**"
      ],
      "metadata": {
        "id": "Hak-tE9BoNPu"
      }
    },
    {
      "cell_type": "markdown",
      "source": [
        "This project implements Sentiment Analysis using Long Short-Term Memory (LSTM) and Bidirectional LSTM (BiLSTM) models to classify movie reviews as either positive or negative. The dataset used is the IMDB Reviews Dataset, and various preprocessing techniques have been applied to improve model accuracy."
      ],
      "metadata": {
        "id": "cON5-uUxoTXO"
      }
    },
    {
      "cell_type": "markdown",
      "source": [
        "**Features**"
      ],
      "metadata": {
        "id": "MVr7l4NYoWiy"
      }
    },
    {
      "cell_type": "markdown",
      "source": [
        "- Preprocessing: Cleaning text data by removing noise (HTML tags, punctuation, stopwords, etc.).\n",
        "\n",
        "- Data Exploration: Visualizing sentiment distribution and review lengths.\n",
        "\n",
        "- Tokenization & Padding: Converting text to numerical sequences for LSTM input.\n",
        "\n",
        "- Pretrained Embeddings: Utilizing Word2Vec for better word representations.\n",
        "\n",
        "- LSTM & BiLSTM Models: Training models for sentiment classification.\n",
        "\n",
        "- Model Evaluation: Analyzing performance with accuracy, loss plots, and validation metrics.\n",
        "\n",
        "- Prediction : A function for predicting sentiment of new reviews."
      ],
      "metadata": {
        "id": "yg_SVK24obZU"
      }
    },
    {
      "cell_type": "markdown",
      "source": [
        "**Installation**"
      ],
      "metadata": {
        "id": "k9z0BBpmowcn"
      }
    },
    {
      "cell_type": "markdown",
      "source": [
        "To run this project, install the necessary dependencies:\n",
        "\n",
        "pip install tensorflow pandas numpy nltk scikit-learn matplotlib seaborn"
      ],
      "metadata": {
        "id": "mDXj8L_Co2R1"
      }
    },
    {
      "cell_type": "markdown",
      "source": [
        "**Dataset**"
      ],
      "metadata": {
        "id": "5yn_EHImpOKI"
      }
    },
    {
      "cell_type": "markdown",
      "source": [
        "The dataset is stored in a ZIP file and extracted before use.\n",
        "\n",
        "- Source: IMDB Reviews Dataset (Kaggle)\n",
        "\n",
        "- Structure: Two columns (review, sentiment)\n",
        "\n",
        "- Size: ~50,000 labeled reviews"
      ],
      "metadata": {
        "id": "V7ozLHxjpTh2"
      }
    },
    {
      "cell_type": "markdown",
      "source": [
        "**Understanding LSTM**\n",
        "LSTM is a type of recurrent neural network (RNN) designed to capture long-term dependencies in sequential data. Unlike standard RNNs, LSTMs solve the vanishing gradient problem by using gates:\n",
        "\n",
        "*Forget Gate* - Decides what information to discard.\n",
        "\n",
        "*Input Gate *- Determines what information to store in the cell state.\n",
        "\n",
        "*Cell State* - Stores information for long periods.\n",
        "\n",
        "*Output Gate* - Determines the next hidden state and output."
      ],
      "metadata": {
        "id": "cvi8wiBiyx5_"
      }
    },
    {
      "cell_type": "code",
      "execution_count": 1,
      "metadata": {
        "colab": {
          "base_uri": "https://localhost:8080/"
        },
        "id": "LwK5Cmd8ymCv",
        "outputId": "4de55198-307f-4e25-e21f-fa2dfab14849"
      },
      "outputs": [
        {
          "output_type": "stream",
          "name": "stdout",
          "text": [
            "GPU Available: [PhysicalDevice(name='/physical_device:GPU:0', device_type='GPU')]\n"
          ]
        }
      ],
      "source": [
        "import tensorflow as tf\n",
        "print(\"GPU Available:\", tf.config.list_physical_devices('GPU'))\n"
      ]
    },
    {
      "cell_type": "code",
      "source": [
        "from google.colab import drive\n",
        "drive.mount('/content/drive')\n"
      ],
      "metadata": {
        "colab": {
          "base_uri": "https://localhost:8080/"
        },
        "id": "n7bRXk05zat-",
        "outputId": "385294f3-d256-4e25-bd62-b5cb8723c854"
      },
      "execution_count": 2,
      "outputs": [
        {
          "output_type": "stream",
          "name": "stdout",
          "text": [
            "Mounted at /content/drive\n"
          ]
        }
      ]
    },
    {
      "cell_type": "code",
      "source": [
        "import os\n",
        "print(\"Files in /data/raw/:\", os.listdir(\"/content/drive/My Drive/LSTM_Project/data/raw/\"))\n"
      ],
      "metadata": {
        "colab": {
          "base_uri": "https://localhost:8080/"
        },
        "id": "iihfwrYmzp9z",
        "outputId": "8044d517-da2b-4f20-bf1f-a51b5dce4ed9"
      },
      "execution_count": 3,
      "outputs": [
        {
          "output_type": "stream",
          "name": "stdout",
          "text": [
            "Files in /data/raw/: ['IMDB Dataset.csv.zip']\n"
          ]
        }
      ]
    },
    {
      "cell_type": "code",
      "source": [
        "import zipfile # Used to work with zipfiles\n",
        "import os # Used for handling filepaths and directories\n",
        "import pandas as pd # Used to work with data in dataframe\n",
        "\n",
        "def load_csv_from_zip(zip_path, extract_folder=\"extracted_data\"):\n",
        "   \"\"\"\n",
        "   Extracts a ZIP file, finds the first CSV file, and loads it into a Pandas DataFrame.\n",
        "\n",
        "   Parameters:\n",
        "   zip_path (str): Full path to the ZIP file.\n",
        "\n",
        "   Returns:\n",
        "   pd.DataFrame: Loaded DataFrame from the CSV file.\n",
        "   \"\"\"\n",
        "   # Ensure extraction folder exists\n",
        "   os.makedirs(extract_folder, exist_ok=True) # Creates a folder if it doesn't exist.\n",
        "\n",
        "   # Extract the ZIP file\n",
        "   with zipfile.ZipFile(zip_path, 'r') as zip_ref: # Opens up the zip file in read mode 'r'\n",
        "       zip_ref.extractall(extract_folder) # Extracts all files into the extract folder\n",
        "\n",
        "   # List all extracted files\n",
        "   extracted_files = os.listdir(extract_folder) # Gets all files in the extracted folder\n",
        "   print(\"Extracted files:\", extracted_files)\n",
        "\n",
        "   # Find the first CSV file\n",
        "   csv_files = [f for f in extracted_files if f.endswith(\".csv\")] # Finds the CSV file\n",
        "   if not csv_files:\n",
        "       raise FileNotFoundError(\"No CSV file found in the ZIP archive.\")\n",
        "\n",
        "   csv_file_path = os.path.join(extract_folder, csv_files[0]) # Combines folder + file to get full CSV path\n",
        "   print(\"Using CSV file:\", csv_file_path)\n",
        "\n",
        "   # Load CSV into DataFrame\n",
        "   df = pd.read_csv(csv_file_path) # Reads CSV into a DataFrame\n",
        "   print(\"CSV file loaded successfully.\")\n",
        "   return df\n",
        "\n",
        "# Define ZIP file path (Ensure filename matches exactly in your Drive)\n",
        "zip_path = \"/content/drive/My Drive/LSTM_Project/data/raw/IMDB Dataset.csv.zip\"\n",
        "\n",
        "# Load CSV into DataFrame\n",
        "df = load_csv_from_zip(zip_path)\n",
        "\n",
        "# Display first 5 rows\n",
        "df.head()\n"
      ],
      "metadata": {
        "colab": {
          "base_uri": "https://localhost:8080/",
          "height": 258
        },
        "id": "dnOAmMPHzvOo",
        "outputId": "e44eeea6-7fed-4489-f067-34549c6bad48"
      },
      "execution_count": 4,
      "outputs": [
        {
          "output_type": "stream",
          "name": "stdout",
          "text": [
            "Extracted files: ['IMDB Dataset.csv']\n",
            "Using CSV file: extracted_data/IMDB Dataset.csv\n",
            "CSV file loaded successfully.\n"
          ]
        },
        {
          "output_type": "execute_result",
          "data": {
            "text/plain": [
              "                                              review sentiment\n",
              "0  One of the other reviewers has mentioned that ...  positive\n",
              "1  A wonderful little production. <br /><br />The...  positive\n",
              "2  I thought this was a wonderful way to spend ti...  positive\n",
              "3  Basically there's a family where a little boy ...  negative\n",
              "4  Petter Mattei's \"Love in the Time of Money\" is...  positive"
            ],
            "text/html": [
              "\n",
              "  <div id=\"df-52682e19-0a7d-4a7c-981a-53cbc49c1209\" class=\"colab-df-container\">\n",
              "    <div>\n",
              "<style scoped>\n",
              "    .dataframe tbody tr th:only-of-type {\n",
              "        vertical-align: middle;\n",
              "    }\n",
              "\n",
              "    .dataframe tbody tr th {\n",
              "        vertical-align: top;\n",
              "    }\n",
              "\n",
              "    .dataframe thead th {\n",
              "        text-align: right;\n",
              "    }\n",
              "</style>\n",
              "<table border=\"1\" class=\"dataframe\">\n",
              "  <thead>\n",
              "    <tr style=\"text-align: right;\">\n",
              "      <th></th>\n",
              "      <th>review</th>\n",
              "      <th>sentiment</th>\n",
              "    </tr>\n",
              "  </thead>\n",
              "  <tbody>\n",
              "    <tr>\n",
              "      <th>0</th>\n",
              "      <td>One of the other reviewers has mentioned that ...</td>\n",
              "      <td>positive</td>\n",
              "    </tr>\n",
              "    <tr>\n",
              "      <th>1</th>\n",
              "      <td>A wonderful little production. &lt;br /&gt;&lt;br /&gt;The...</td>\n",
              "      <td>positive</td>\n",
              "    </tr>\n",
              "    <tr>\n",
              "      <th>2</th>\n",
              "      <td>I thought this was a wonderful way to spend ti...</td>\n",
              "      <td>positive</td>\n",
              "    </tr>\n",
              "    <tr>\n",
              "      <th>3</th>\n",
              "      <td>Basically there's a family where a little boy ...</td>\n",
              "      <td>negative</td>\n",
              "    </tr>\n",
              "    <tr>\n",
              "      <th>4</th>\n",
              "      <td>Petter Mattei's \"Love in the Time of Money\" is...</td>\n",
              "      <td>positive</td>\n",
              "    </tr>\n",
              "  </tbody>\n",
              "</table>\n",
              "</div>\n",
              "    <div class=\"colab-df-buttons\">\n",
              "\n",
              "  <div class=\"colab-df-container\">\n",
              "    <button class=\"colab-df-convert\" onclick=\"convertToInteractive('df-52682e19-0a7d-4a7c-981a-53cbc49c1209')\"\n",
              "            title=\"Convert this dataframe to an interactive table.\"\n",
              "            style=\"display:none;\">\n",
              "\n",
              "  <svg xmlns=\"http://www.w3.org/2000/svg\" height=\"24px\" viewBox=\"0 -960 960 960\">\n",
              "    <path d=\"M120-120v-720h720v720H120Zm60-500h600v-160H180v160Zm220 220h160v-160H400v160Zm0 220h160v-160H400v160ZM180-400h160v-160H180v160Zm440 0h160v-160H620v160ZM180-180h160v-160H180v160Zm440 0h160v-160H620v160Z\"/>\n",
              "  </svg>\n",
              "    </button>\n",
              "\n",
              "  <style>\n",
              "    .colab-df-container {\n",
              "      display:flex;\n",
              "      gap: 12px;\n",
              "    }\n",
              "\n",
              "    .colab-df-convert {\n",
              "      background-color: #E8F0FE;\n",
              "      border: none;\n",
              "      border-radius: 50%;\n",
              "      cursor: pointer;\n",
              "      display: none;\n",
              "      fill: #1967D2;\n",
              "      height: 32px;\n",
              "      padding: 0 0 0 0;\n",
              "      width: 32px;\n",
              "    }\n",
              "\n",
              "    .colab-df-convert:hover {\n",
              "      background-color: #E2EBFA;\n",
              "      box-shadow: 0px 1px 2px rgba(60, 64, 67, 0.3), 0px 1px 3px 1px rgba(60, 64, 67, 0.15);\n",
              "      fill: #174EA6;\n",
              "    }\n",
              "\n",
              "    .colab-df-buttons div {\n",
              "      margin-bottom: 4px;\n",
              "    }\n",
              "\n",
              "    [theme=dark] .colab-df-convert {\n",
              "      background-color: #3B4455;\n",
              "      fill: #D2E3FC;\n",
              "    }\n",
              "\n",
              "    [theme=dark] .colab-df-convert:hover {\n",
              "      background-color: #434B5C;\n",
              "      box-shadow: 0px 1px 3px 1px rgba(0, 0, 0, 0.15);\n",
              "      filter: drop-shadow(0px 1px 2px rgba(0, 0, 0, 0.3));\n",
              "      fill: #FFFFFF;\n",
              "    }\n",
              "  </style>\n",
              "\n",
              "    <script>\n",
              "      const buttonEl =\n",
              "        document.querySelector('#df-52682e19-0a7d-4a7c-981a-53cbc49c1209 button.colab-df-convert');\n",
              "      buttonEl.style.display =\n",
              "        google.colab.kernel.accessAllowed ? 'block' : 'none';\n",
              "\n",
              "      async function convertToInteractive(key) {\n",
              "        const element = document.querySelector('#df-52682e19-0a7d-4a7c-981a-53cbc49c1209');\n",
              "        const dataTable =\n",
              "          await google.colab.kernel.invokeFunction('convertToInteractive',\n",
              "                                                    [key], {});\n",
              "        if (!dataTable) return;\n",
              "\n",
              "        const docLinkHtml = 'Like what you see? Visit the ' +\n",
              "          '<a target=\"_blank\" href=https://colab.research.google.com/notebooks/data_table.ipynb>data table notebook</a>'\n",
              "          + ' to learn more about interactive tables.';\n",
              "        element.innerHTML = '';\n",
              "        dataTable['output_type'] = 'display_data';\n",
              "        await google.colab.output.renderOutput(dataTable, element);\n",
              "        const docLink = document.createElement('div');\n",
              "        docLink.innerHTML = docLinkHtml;\n",
              "        element.appendChild(docLink);\n",
              "      }\n",
              "    </script>\n",
              "  </div>\n",
              "\n",
              "\n",
              "<div id=\"df-bda33443-e48a-4af8-900a-cee5ee5a3c3a\">\n",
              "  <button class=\"colab-df-quickchart\" onclick=\"quickchart('df-bda33443-e48a-4af8-900a-cee5ee5a3c3a')\"\n",
              "            title=\"Suggest charts\"\n",
              "            style=\"display:none;\">\n",
              "\n",
              "<svg xmlns=\"http://www.w3.org/2000/svg\" height=\"24px\"viewBox=\"0 0 24 24\"\n",
              "     width=\"24px\">\n",
              "    <g>\n",
              "        <path d=\"M19 3H5c-1.1 0-2 .9-2 2v14c0 1.1.9 2 2 2h14c1.1 0 2-.9 2-2V5c0-1.1-.9-2-2-2zM9 17H7v-7h2v7zm4 0h-2V7h2v10zm4 0h-2v-4h2v4z\"/>\n",
              "    </g>\n",
              "</svg>\n",
              "  </button>\n",
              "\n",
              "<style>\n",
              "  .colab-df-quickchart {\n",
              "      --bg-color: #E8F0FE;\n",
              "      --fill-color: #1967D2;\n",
              "      --hover-bg-color: #E2EBFA;\n",
              "      --hover-fill-color: #174EA6;\n",
              "      --disabled-fill-color: #AAA;\n",
              "      --disabled-bg-color: #DDD;\n",
              "  }\n",
              "\n",
              "  [theme=dark] .colab-df-quickchart {\n",
              "      --bg-color: #3B4455;\n",
              "      --fill-color: #D2E3FC;\n",
              "      --hover-bg-color: #434B5C;\n",
              "      --hover-fill-color: #FFFFFF;\n",
              "      --disabled-bg-color: #3B4455;\n",
              "      --disabled-fill-color: #666;\n",
              "  }\n",
              "\n",
              "  .colab-df-quickchart {\n",
              "    background-color: var(--bg-color);\n",
              "    border: none;\n",
              "    border-radius: 50%;\n",
              "    cursor: pointer;\n",
              "    display: none;\n",
              "    fill: var(--fill-color);\n",
              "    height: 32px;\n",
              "    padding: 0;\n",
              "    width: 32px;\n",
              "  }\n",
              "\n",
              "  .colab-df-quickchart:hover {\n",
              "    background-color: var(--hover-bg-color);\n",
              "    box-shadow: 0 1px 2px rgba(60, 64, 67, 0.3), 0 1px 3px 1px rgba(60, 64, 67, 0.15);\n",
              "    fill: var(--button-hover-fill-color);\n",
              "  }\n",
              "\n",
              "  .colab-df-quickchart-complete:disabled,\n",
              "  .colab-df-quickchart-complete:disabled:hover {\n",
              "    background-color: var(--disabled-bg-color);\n",
              "    fill: var(--disabled-fill-color);\n",
              "    box-shadow: none;\n",
              "  }\n",
              "\n",
              "  .colab-df-spinner {\n",
              "    border: 2px solid var(--fill-color);\n",
              "    border-color: transparent;\n",
              "    border-bottom-color: var(--fill-color);\n",
              "    animation:\n",
              "      spin 1s steps(1) infinite;\n",
              "  }\n",
              "\n",
              "  @keyframes spin {\n",
              "    0% {\n",
              "      border-color: transparent;\n",
              "      border-bottom-color: var(--fill-color);\n",
              "      border-left-color: var(--fill-color);\n",
              "    }\n",
              "    20% {\n",
              "      border-color: transparent;\n",
              "      border-left-color: var(--fill-color);\n",
              "      border-top-color: var(--fill-color);\n",
              "    }\n",
              "    30% {\n",
              "      border-color: transparent;\n",
              "      border-left-color: var(--fill-color);\n",
              "      border-top-color: var(--fill-color);\n",
              "      border-right-color: var(--fill-color);\n",
              "    }\n",
              "    40% {\n",
              "      border-color: transparent;\n",
              "      border-right-color: var(--fill-color);\n",
              "      border-top-color: var(--fill-color);\n",
              "    }\n",
              "    60% {\n",
              "      border-color: transparent;\n",
              "      border-right-color: var(--fill-color);\n",
              "    }\n",
              "    80% {\n",
              "      border-color: transparent;\n",
              "      border-right-color: var(--fill-color);\n",
              "      border-bottom-color: var(--fill-color);\n",
              "    }\n",
              "    90% {\n",
              "      border-color: transparent;\n",
              "      border-bottom-color: var(--fill-color);\n",
              "    }\n",
              "  }\n",
              "</style>\n",
              "\n",
              "  <script>\n",
              "    async function quickchart(key) {\n",
              "      const quickchartButtonEl =\n",
              "        document.querySelector('#' + key + ' button');\n",
              "      quickchartButtonEl.disabled = true;  // To prevent multiple clicks.\n",
              "      quickchartButtonEl.classList.add('colab-df-spinner');\n",
              "      try {\n",
              "        const charts = await google.colab.kernel.invokeFunction(\n",
              "            'suggestCharts', [key], {});\n",
              "      } catch (error) {\n",
              "        console.error('Error during call to suggestCharts:', error);\n",
              "      }\n",
              "      quickchartButtonEl.classList.remove('colab-df-spinner');\n",
              "      quickchartButtonEl.classList.add('colab-df-quickchart-complete');\n",
              "    }\n",
              "    (() => {\n",
              "      let quickchartButtonEl =\n",
              "        document.querySelector('#df-bda33443-e48a-4af8-900a-cee5ee5a3c3a button');\n",
              "      quickchartButtonEl.style.display =\n",
              "        google.colab.kernel.accessAllowed ? 'block' : 'none';\n",
              "    })();\n",
              "  </script>\n",
              "</div>\n",
              "\n",
              "    </div>\n",
              "  </div>\n"
            ],
            "application/vnd.google.colaboratory.intrinsic+json": {
              "type": "dataframe",
              "variable_name": "df",
              "summary": "{\n  \"name\": \"df\",\n  \"rows\": 50000,\n  \"fields\": [\n    {\n      \"column\": \"review\",\n      \"properties\": {\n        \"dtype\": \"string\",\n        \"num_unique_values\": 49582,\n        \"samples\": [\n          \"\\\"Soul Plane\\\" is a horrible attempt at comedy that only should appeal people with thick skulls, bloodshot eyes and furry pawns. <br /><br />The plot is not only incoherent but also non-existent, acting is mostly sub sub-par with a gang of highly moronic and dreadful characters thrown in for bad measure, jokes are often spotted miles ahead and almost never even a bit amusing. This movie lacks any structure and is full of racial stereotypes that must have seemed old even in the fifties, the only thing it really has going for it is some pretty ladies, but really, if you want that you can rent something from the \\\"Adult\\\" section. OK?<br /><br />I can hardly see anything here to recommend since you'll probably have a lot a better and productive time chasing rats with a sledgehammer or inventing waterproof teabags or whatever.<br /><br />2/10\",\n          \"Guest from the Future tells a fascinating story of time travel, friendship, battle of good and evil -- all with a small budget, child actors, and few special effects. Something for Spielberg and Lucas to learn from. ;) A sixth-grader Kolya \\\"Nick\\\" Gerasimov finds a time machine in the basement of a decrepit building and travels 100 years into the future. He discovers a near-perfect, utopian society where robots play guitars and write poetry, everyone is kind to each other and people enjoy everything technology has to offer. Alice is the daughter of a prominent scientist who invented a device called Mielophone that allows to read minds of humans and animals. The device can be put to both good and bad use, depending on whose hands it falls into. When two evil space pirates from Saturn who want to rule the universe attempt to steal Mielophone, it falls into the hands of 20th century school boy Nick. With the pirates hot on his tracks, he travels back to his time, followed by the pirates, and Alice. Chaos, confusion and funny situations follow as the luckless pirates try to blend in with the earthlings. Alice enrolls in the same school Nick goes to and demonstrates superhuman abilities in PE class. The catch is, Alice doesn't know what Nick looks like, while the pirates do. Also, the pirates are able to change their appearance and turn literally into anyone. (Hmm, I wonder if this is where James Cameron got the idea for Terminator...) Who gets to Nick -- and Mielophone -- first? Excellent plot, non-stop adventures, and great soundtrack. I wish Hollywood made kid movies like this one...\",\n          \"\\\"National Treasure\\\" (2004) is a thoroughly misguided hodge-podge of plot entanglements that borrow from nearly every cloak and dagger government conspiracy clich\\u00e9 that has ever been written. The film stars Nicholas Cage as Benjamin Franklin Gates (how precious is that, I ask you?); a seemingly normal fellow who, for no other reason than being of a lineage of like-minded misguided fortune hunters, decides to steal a 'national treasure' that has been hidden by the United States founding fathers. After a bit of subtext and background that plays laughably (unintentionally) like Indiana Jones meets The Patriot, the film degenerates into one misguided whimsy after another \\u0096 attempting to create a 'Stanley Goodspeed' regurgitation of Nicholas Cage and launch the whole convoluted mess forward with a series of high octane, but disconnected misadventures.<br /><br />The relevancy and logic to having George Washington and his motley crew of patriots burying a king's ransom someplace on native soil, and then, going through the meticulous plan of leaving clues scattered throughout U.S. currency art work, is something that director Jon Turteltaub never quite gets around to explaining. Couldn't Washington found better usage for such wealth during the start up of the country? Hence, we are left with a mystery built on top of an enigma that is already on shaky ground by the time Ben appoints himself the new custodian of this untold wealth. Ben's intentions are noble \\u0096 if confusing. He's set on protecting the treasure. For who and when?\\u0085your guess is as good as mine.<br /><br />But there are a few problems with Ben's crusade. First up, his friend, Ian Holmes (Sean Bean) decides that he can't wait for Ben to make up his mind about stealing the Declaration of Independence from the National Archives (oh, yeah \\u0096 brilliant idea!). Presumably, the back of that famous document holds the secret answer to the ultimate fortune. So Ian tries to kill Ben. The assassination attempt is, of course, unsuccessful, if overly melodramatic. It also affords Ben the opportunity to pick up, and pick on, the very sultry curator of the archives, Abigail Chase (Diane Kruger). She thinks Ben is clearly a nut \\u0096 at least at the beginning. But true to action/romance form, Abby's resolve melts quicker than you can say, \\\"is that the Hope Diamond?\\\" The film moves into full X-File-ish mode, as the FBI, mistakenly believing that Ben is behind the theft, retaliate in various benign ways that lead to a multi-layering of action sequences reminiscent of Mission Impossible meets The Fugitive. Honestly, don't those guys ever get 'intelligence' information that is correct? In the final analysis, \\\"National Treasure\\\" isn't great film making, so much as it's a patchwork rehash of tired old bits from other movies, woven together from scraps, the likes of which would make IL' Betsy Ross blush.<br /><br />The Buena Vista DVD delivers a far more generous treatment than this film is deserving of. The anamorphic widescreen picture exhibits a very smooth and finely detailed image with very rich colors, natural flesh tones, solid blacks and clean whites. The stylized image is also free of blemishes and digital enhancements. The audio is 5.1 and delivers a nice sonic boom to your side and rear speakers with intensity and realism. Extras include a host of promotional junket material that is rather deep and over the top in its explanation of how and why this film was made. If only, as an audience, we had had more clarification as to why Ben and co. were chasing after an illusive treasure, this might have been one good flick. Extras conclude with the theatrical trailer, audio commentary and deleted scenes. Not for the faint-hearted \\u0096 just the thick-headed.\"\n        ],\n        \"semantic_type\": \"\",\n        \"description\": \"\"\n      }\n    },\n    {\n      \"column\": \"sentiment\",\n      \"properties\": {\n        \"dtype\": \"category\",\n        \"num_unique_values\": 2,\n        \"samples\": [\n          \"negative\",\n          \"positive\"\n        ],\n        \"semantic_type\": \"\",\n        \"description\": \"\"\n      }\n    }\n  ]\n}"
            }
          },
          "metadata": {},
          "execution_count": 4
        }
      ]
    },
    {
      "cell_type": "markdown",
      "source": [
        "**Data Preprocessing**"
      ],
      "metadata": {
        "id": "YrN8KyVkpvLF"
      }
    },
    {
      "cell_type": "markdown",
      "source": [
        "- Convert text to lowercase.\n",
        "\n",
        "- Remove special characters, punctuation, and HTML tags.\n",
        "\n",
        "- Convert labels to numerical format (positive → 1, negative → 0).\n",
        "\n",
        "- Ensure balanced dataset for training."
      ],
      "metadata": {
        "id": "diiFh5bjpzGY"
      }
    },
    {
      "cell_type": "code",
      "source": [
        "import re  # Regular expressions (for text cleaning)\n",
        "import nltk  # Natural Language Toolkit (for text processing)\n",
        "import pandas as pd  # For working with data in tables\n",
        "import numpy as np  # For numerical operations\n",
        "from nltk.corpus import stopwords  # To remove common words (like \"the\", \"is\", \"and\")\n",
        "#from nltk.stem import WordNetLemmatizer, PorterStemmer\n",
        "from sklearn.model_selection import train_test_split  # To split data into training and testing\n"
      ],
      "metadata": {
        "id": "DLDGbhpJ0mhj"
      },
      "execution_count": 5,
      "outputs": []
    },
    {
      "cell_type": "code",
      "source": [
        "nltk.download('stopwords')\n",
        "nltk.download('wordnet')\n"
      ],
      "metadata": {
        "colab": {
          "base_uri": "https://localhost:8080/"
        },
        "id": "yhzno1i61hIh",
        "outputId": "bfc0d37f-f576-4b84-bc08-2a66a44ad7ab"
      },
      "execution_count": 6,
      "outputs": [
        {
          "output_type": "stream",
          "name": "stderr",
          "text": [
            "[nltk_data] Downloading package stopwords to /root/nltk_data...\n",
            "[nltk_data]   Unzipping corpora/stopwords.zip.\n",
            "[nltk_data] Downloading package wordnet to /root/nltk_data...\n"
          ]
        },
        {
          "output_type": "execute_result",
          "data": {
            "text/plain": [
              "True"
            ]
          },
          "metadata": {},
          "execution_count": 6
        }
      ]
    },
    {
      "cell_type": "code",
      "source": [
        "\n",
        "\n",
        "def preprocess_text(text):\n",
        "    \"\"\"\n",
        "    Preprocesses a given text: converts to lowercase, removes special characters,\n",
        "    punctuation.\n",
        "    \"\"\"\n",
        "    text = text.lower()  # Convert to lowercase\n",
        "    text = re.sub(r'\\W', ' ', text)  # Remove special characters and punctuation\n",
        "    text = re.sub(r'\\s+[a-zA-Z]\\s+', ' ', text)  # Remove single-letter words\n",
        "    text = re.sub(r'<.*?>', ' ', text)  # Remove HTML tags like <br>\n",
        "    text = re.sub(r'\\bbr\\b', ' ', text)  # Remove standalone 'br' (word boundaries)\n",
        "    text = re.sub(r'\\s+', ' ', text).strip()  # Remove extra spaces\n",
        "\n",
        "    #stop_words = set(stopwords.words('english'))  # Get a list of stopwords\n",
        "    #words = text.split()  # Convert text into a list of words (tokenization)\n",
        "\n",
        " # Remove stopwords and apply lemmatization and stemming\n",
        "    #words = [lemmatizer.lemmatize(stemmer.stem(word)) for word in words if word not in stop_words]  # Remove stopwords, then lemmatize and stem\n",
        "    #words = [word for word in words if word not in stop_words]  # Remove stopwords\n",
        "    #return ' '.join(words)  # Convert list of words back into a sentence\n",
        "    return text\n"
      ],
      "metadata": {
        "id": "G2gav2h61nRg"
      },
      "execution_count": 14,
      "outputs": []
    },
    {
      "cell_type": "code",
      "source": [
        "def preprocess_dataframe(df, text_column, label_column):\n",
        "    \"\"\"\n",
        "    Cleans the dataset by:\n",
        "    - Removing missing values\n",
        "    - Removing duplicate reviews\n",
        "    - Preprocessing text (lowercasing, removing punctuation, stopwords)\n",
        "    - Converting labels to numerical values\n",
        "\n",
        "    Parameters:\n",
        "    df (pd.DataFrame): Input dataset.\n",
        "    text_column (str): Column name containing the text data.\n",
        "    label_column (str): Column name containing sentiment labels.\n",
        "\n",
        "    Returns:\n",
        "    pd.DataFrame: Cleaned dataset (without splitting).\n",
        "    \"\"\"\n",
        "\n",
        "    # Step 1: Check and Remove Missing Values\n",
        "    missing_before = df.isnull().sum().sum()  # Count total missing values\n",
        "    df = df.dropna()  # Drop rows with missing values\n",
        "    missing_after = df.isnull().sum().sum()\n",
        "    print(f\" Missing values removed: {missing_before - missing_after}\")\n",
        "\n",
        "    # Step 2: Check and Remove Duplicates\n",
        "    duplicates_before = df.duplicated(subset=[text_column]).sum()  # Count duplicate reviews\n",
        "    df = df.drop_duplicates(subset=[text_column], keep=\"first\")  # Remove duplicates\n",
        "    duplicates_after = df.duplicated(subset=[text_column]).sum()\n",
        "    print(f\"Duplicate reviews removed: {duplicates_before - duplicates_after}\")\n",
        "\n",
        "    # Step 3: Apply text preprocessing\n",
        "    df[text_column] = df[text_column].apply(preprocess_text)\n",
        "\n",
        "    # Step 4: Convert labels ('positive' → 1, 'negative' → 0)\n",
        "    df[label_column] = df[label_column].map({'positive': 1, 'negative': 0})\n",
        "\n",
        "    print(\"Data Preprocessing Completed Successfully!\")\n",
        "    return df  # Returns the fully cleaned dataset (without splitting)\n"
      ],
      "metadata": {
        "id": "5xGVVBLC1wbV"
      },
      "execution_count": 13,
      "outputs": []
    },
    {
      "cell_type": "code",
      "source": [
        "# Define column names\n",
        "text_column = \"review\"  # Column containing text data\n",
        "label_column = \"sentiment\"  # Column containing sentiment labels\n",
        "\n",
        "# Preprocess the dataset (cleaning only)\n",
        "clean_df = preprocess_dataframe(df, text_column, label_column)\n",
        "\n",
        "# Display first 5 rows of the cleaned dataset\n",
        "clean_df.head()\n"
      ],
      "metadata": {
        "colab": {
          "base_uri": "https://localhost:8080/",
          "height": 258
        },
        "id": "vwiNZMrj12mx",
        "outputId": "3106799e-9572-412e-8391-82870b757812"
      },
      "execution_count": 15,
      "outputs": [
        {
          "output_type": "stream",
          "name": "stdout",
          "text": [
            " Missing values removed: 0\n",
            "Duplicate reviews removed: 418\n",
            "Data Preprocessing Completed Successfully!\n"
          ]
        },
        {
          "output_type": "execute_result",
          "data": {
            "text/plain": [
              "                                              review  sentiment\n",
              "0  one of the other reviewers has mentioned that ...          1\n",
              "1  a wonderful little production the filming tech...          1\n",
              "2  i thought this was wonderful way to spend time...          1\n",
              "3  basically there a family where little boy jake...          0\n",
              "4  petter mattei love in the time of money is vis...          1"
            ],
            "text/html": [
              "\n",
              "  <div id=\"df-0e018af5-7b67-4239-8006-55d8f0768d40\" class=\"colab-df-container\">\n",
              "    <div>\n",
              "<style scoped>\n",
              "    .dataframe tbody tr th:only-of-type {\n",
              "        vertical-align: middle;\n",
              "    }\n",
              "\n",
              "    .dataframe tbody tr th {\n",
              "        vertical-align: top;\n",
              "    }\n",
              "\n",
              "    .dataframe thead th {\n",
              "        text-align: right;\n",
              "    }\n",
              "</style>\n",
              "<table border=\"1\" class=\"dataframe\">\n",
              "  <thead>\n",
              "    <tr style=\"text-align: right;\">\n",
              "      <th></th>\n",
              "      <th>review</th>\n",
              "      <th>sentiment</th>\n",
              "    </tr>\n",
              "  </thead>\n",
              "  <tbody>\n",
              "    <tr>\n",
              "      <th>0</th>\n",
              "      <td>one of the other reviewers has mentioned that ...</td>\n",
              "      <td>1</td>\n",
              "    </tr>\n",
              "    <tr>\n",
              "      <th>1</th>\n",
              "      <td>a wonderful little production the filming tech...</td>\n",
              "      <td>1</td>\n",
              "    </tr>\n",
              "    <tr>\n",
              "      <th>2</th>\n",
              "      <td>i thought this was wonderful way to spend time...</td>\n",
              "      <td>1</td>\n",
              "    </tr>\n",
              "    <tr>\n",
              "      <th>3</th>\n",
              "      <td>basically there a family where little boy jake...</td>\n",
              "      <td>0</td>\n",
              "    </tr>\n",
              "    <tr>\n",
              "      <th>4</th>\n",
              "      <td>petter mattei love in the time of money is vis...</td>\n",
              "      <td>1</td>\n",
              "    </tr>\n",
              "  </tbody>\n",
              "</table>\n",
              "</div>\n",
              "    <div class=\"colab-df-buttons\">\n",
              "\n",
              "  <div class=\"colab-df-container\">\n",
              "    <button class=\"colab-df-convert\" onclick=\"convertToInteractive('df-0e018af5-7b67-4239-8006-55d8f0768d40')\"\n",
              "            title=\"Convert this dataframe to an interactive table.\"\n",
              "            style=\"display:none;\">\n",
              "\n",
              "  <svg xmlns=\"http://www.w3.org/2000/svg\" height=\"24px\" viewBox=\"0 -960 960 960\">\n",
              "    <path d=\"M120-120v-720h720v720H120Zm60-500h600v-160H180v160Zm220 220h160v-160H400v160Zm0 220h160v-160H400v160ZM180-400h160v-160H180v160Zm440 0h160v-160H620v160ZM180-180h160v-160H180v160Zm440 0h160v-160H620v160Z\"/>\n",
              "  </svg>\n",
              "    </button>\n",
              "\n",
              "  <style>\n",
              "    .colab-df-container {\n",
              "      display:flex;\n",
              "      gap: 12px;\n",
              "    }\n",
              "\n",
              "    .colab-df-convert {\n",
              "      background-color: #E8F0FE;\n",
              "      border: none;\n",
              "      border-radius: 50%;\n",
              "      cursor: pointer;\n",
              "      display: none;\n",
              "      fill: #1967D2;\n",
              "      height: 32px;\n",
              "      padding: 0 0 0 0;\n",
              "      width: 32px;\n",
              "    }\n",
              "\n",
              "    .colab-df-convert:hover {\n",
              "      background-color: #E2EBFA;\n",
              "      box-shadow: 0px 1px 2px rgba(60, 64, 67, 0.3), 0px 1px 3px 1px rgba(60, 64, 67, 0.15);\n",
              "      fill: #174EA6;\n",
              "    }\n",
              "\n",
              "    .colab-df-buttons div {\n",
              "      margin-bottom: 4px;\n",
              "    }\n",
              "\n",
              "    [theme=dark] .colab-df-convert {\n",
              "      background-color: #3B4455;\n",
              "      fill: #D2E3FC;\n",
              "    }\n",
              "\n",
              "    [theme=dark] .colab-df-convert:hover {\n",
              "      background-color: #434B5C;\n",
              "      box-shadow: 0px 1px 3px 1px rgba(0, 0, 0, 0.15);\n",
              "      filter: drop-shadow(0px 1px 2px rgba(0, 0, 0, 0.3));\n",
              "      fill: #FFFFFF;\n",
              "    }\n",
              "  </style>\n",
              "\n",
              "    <script>\n",
              "      const buttonEl =\n",
              "        document.querySelector('#df-0e018af5-7b67-4239-8006-55d8f0768d40 button.colab-df-convert');\n",
              "      buttonEl.style.display =\n",
              "        google.colab.kernel.accessAllowed ? 'block' : 'none';\n",
              "\n",
              "      async function convertToInteractive(key) {\n",
              "        const element = document.querySelector('#df-0e018af5-7b67-4239-8006-55d8f0768d40');\n",
              "        const dataTable =\n",
              "          await google.colab.kernel.invokeFunction('convertToInteractive',\n",
              "                                                    [key], {});\n",
              "        if (!dataTable) return;\n",
              "\n",
              "        const docLinkHtml = 'Like what you see? Visit the ' +\n",
              "          '<a target=\"_blank\" href=https://colab.research.google.com/notebooks/data_table.ipynb>data table notebook</a>'\n",
              "          + ' to learn more about interactive tables.';\n",
              "        element.innerHTML = '';\n",
              "        dataTable['output_type'] = 'display_data';\n",
              "        await google.colab.output.renderOutput(dataTable, element);\n",
              "        const docLink = document.createElement('div');\n",
              "        docLink.innerHTML = docLinkHtml;\n",
              "        element.appendChild(docLink);\n",
              "      }\n",
              "    </script>\n",
              "  </div>\n",
              "\n",
              "\n",
              "<div id=\"df-b2cde132-dd48-4a2c-ad76-685dfbced46f\">\n",
              "  <button class=\"colab-df-quickchart\" onclick=\"quickchart('df-b2cde132-dd48-4a2c-ad76-685dfbced46f')\"\n",
              "            title=\"Suggest charts\"\n",
              "            style=\"display:none;\">\n",
              "\n",
              "<svg xmlns=\"http://www.w3.org/2000/svg\" height=\"24px\"viewBox=\"0 0 24 24\"\n",
              "     width=\"24px\">\n",
              "    <g>\n",
              "        <path d=\"M19 3H5c-1.1 0-2 .9-2 2v14c0 1.1.9 2 2 2h14c1.1 0 2-.9 2-2V5c0-1.1-.9-2-2-2zM9 17H7v-7h2v7zm4 0h-2V7h2v10zm4 0h-2v-4h2v4z\"/>\n",
              "    </g>\n",
              "</svg>\n",
              "  </button>\n",
              "\n",
              "<style>\n",
              "  .colab-df-quickchart {\n",
              "      --bg-color: #E8F0FE;\n",
              "      --fill-color: #1967D2;\n",
              "      --hover-bg-color: #E2EBFA;\n",
              "      --hover-fill-color: #174EA6;\n",
              "      --disabled-fill-color: #AAA;\n",
              "      --disabled-bg-color: #DDD;\n",
              "  }\n",
              "\n",
              "  [theme=dark] .colab-df-quickchart {\n",
              "      --bg-color: #3B4455;\n",
              "      --fill-color: #D2E3FC;\n",
              "      --hover-bg-color: #434B5C;\n",
              "      --hover-fill-color: #FFFFFF;\n",
              "      --disabled-bg-color: #3B4455;\n",
              "      --disabled-fill-color: #666;\n",
              "  }\n",
              "\n",
              "  .colab-df-quickchart {\n",
              "    background-color: var(--bg-color);\n",
              "    border: none;\n",
              "    border-radius: 50%;\n",
              "    cursor: pointer;\n",
              "    display: none;\n",
              "    fill: var(--fill-color);\n",
              "    height: 32px;\n",
              "    padding: 0;\n",
              "    width: 32px;\n",
              "  }\n",
              "\n",
              "  .colab-df-quickchart:hover {\n",
              "    background-color: var(--hover-bg-color);\n",
              "    box-shadow: 0 1px 2px rgba(60, 64, 67, 0.3), 0 1px 3px 1px rgba(60, 64, 67, 0.15);\n",
              "    fill: var(--button-hover-fill-color);\n",
              "  }\n",
              "\n",
              "  .colab-df-quickchart-complete:disabled,\n",
              "  .colab-df-quickchart-complete:disabled:hover {\n",
              "    background-color: var(--disabled-bg-color);\n",
              "    fill: var(--disabled-fill-color);\n",
              "    box-shadow: none;\n",
              "  }\n",
              "\n",
              "  .colab-df-spinner {\n",
              "    border: 2px solid var(--fill-color);\n",
              "    border-color: transparent;\n",
              "    border-bottom-color: var(--fill-color);\n",
              "    animation:\n",
              "      spin 1s steps(1) infinite;\n",
              "  }\n",
              "\n",
              "  @keyframes spin {\n",
              "    0% {\n",
              "      border-color: transparent;\n",
              "      border-bottom-color: var(--fill-color);\n",
              "      border-left-color: var(--fill-color);\n",
              "    }\n",
              "    20% {\n",
              "      border-color: transparent;\n",
              "      border-left-color: var(--fill-color);\n",
              "      border-top-color: var(--fill-color);\n",
              "    }\n",
              "    30% {\n",
              "      border-color: transparent;\n",
              "      border-left-color: var(--fill-color);\n",
              "      border-top-color: var(--fill-color);\n",
              "      border-right-color: var(--fill-color);\n",
              "    }\n",
              "    40% {\n",
              "      border-color: transparent;\n",
              "      border-right-color: var(--fill-color);\n",
              "      border-top-color: var(--fill-color);\n",
              "    }\n",
              "    60% {\n",
              "      border-color: transparent;\n",
              "      border-right-color: var(--fill-color);\n",
              "    }\n",
              "    80% {\n",
              "      border-color: transparent;\n",
              "      border-right-color: var(--fill-color);\n",
              "      border-bottom-color: var(--fill-color);\n",
              "    }\n",
              "    90% {\n",
              "      border-color: transparent;\n",
              "      border-bottom-color: var(--fill-color);\n",
              "    }\n",
              "  }\n",
              "</style>\n",
              "\n",
              "  <script>\n",
              "    async function quickchart(key) {\n",
              "      const quickchartButtonEl =\n",
              "        document.querySelector('#' + key + ' button');\n",
              "      quickchartButtonEl.disabled = true;  // To prevent multiple clicks.\n",
              "      quickchartButtonEl.classList.add('colab-df-spinner');\n",
              "      try {\n",
              "        const charts = await google.colab.kernel.invokeFunction(\n",
              "            'suggestCharts', [key], {});\n",
              "      } catch (error) {\n",
              "        console.error('Error during call to suggestCharts:', error);\n",
              "      }\n",
              "      quickchartButtonEl.classList.remove('colab-df-spinner');\n",
              "      quickchartButtonEl.classList.add('colab-df-quickchart-complete');\n",
              "    }\n",
              "    (() => {\n",
              "      let quickchartButtonEl =\n",
              "        document.querySelector('#df-b2cde132-dd48-4a2c-ad76-685dfbced46f button');\n",
              "      quickchartButtonEl.style.display =\n",
              "        google.colab.kernel.accessAllowed ? 'block' : 'none';\n",
              "    })();\n",
              "  </script>\n",
              "</div>\n",
              "\n",
              "    </div>\n",
              "  </div>\n"
            ],
            "application/vnd.google.colaboratory.intrinsic+json": {
              "type": "dataframe",
              "variable_name": "clean_df",
              "summary": "{\n  \"name\": \"clean_df\",\n  \"rows\": 49582,\n  \"fields\": [\n    {\n      \"column\": \"review\",\n      \"properties\": {\n        \"dtype\": \"string\",\n        \"num_unique_values\": 49576,\n        \"samples\": [\n          \"i saw bits and pieces of this on tv once and when friend recommended it began looking for it even though it seemed no place nearby had it finally got hold of it in an antique store and couldn wait to watch it oh that had seen it couple years earlier and could ve really enjoyed it was surprised that this movie was only 80 or so minutes long and think this is what made the plot and story so lacking the plot really does sound like good one both on the trailer and the movie comments teenager angus jesse bradford and his newfound stray lab yellow are marooned on an island during storm on boat trip with his father bruce davison together they manage to survive the wilderness and wait to be found and rescued still what is never mentioned is that everything is shortened and the events of the plot are very rushed there is possible love interest between angus and sara but they re never shown together for more than moment yellow is mischievous dog the parents are reluctant to keep but in few days he seems to be appreciated enough to join boat trip the scene of the mother mimi rogers mentioning vaguely what death is like to the younger boy joel palmer doesn go anywhere in no time we learn that 9 days have been spent on the island then suddenly it 14 then 19 of all the animals castaway could be exposed to in the wild only 1 kind wolf attacks them why couldn something else have been problem instead of having the same type of animal maybe even the same one strike twice there are few views of how angus prepares food except when he discovers fruit and roots and when he roasts trapped rat if he knows so much about survival skills why weren more scenes with it shown the one thing that made me blank was why the dog didn have much part alone when he is rescued and the dog is left behind on the island there is no scene showing how he survives without human help wished was more open to this when watching it but did enjoy some of this the acting was good and the score was enjoyable though found myself wondering why the father looked so much older than his family and why he and the main search and rescue conductor share names this is good movie for kids but though the protagonist is 14 nobody over 10 would be interested with this\",\n          \"i must confess to not having read the original r james story although have read many of his other supernatural tales ve also seen most of the previous bbc christmas ghost stories and this one in my opinion surpasses most of them only equalling the signalman can really fault view from hill the direction and mood is perfect as is the acting lighting and of course the story and writing thoroughly enjoyed this and can only hope for more of this quality from the same director and production team understand that the bbc plan to make some more not necessarily based on r james stories so that promising 10 10\",\n          \"i mean seriously what group would sing about crazy car so what if their ten it way too immature for little kid to sing about being my women mean seriously the name is pretty corny too naked brothers just because they take off their pants how creative don get why they need tv show mean most artist don really need tv show about themselves especially the naked brothers band heck how many of them are in the freaking group and seriously whats with the movie jeez nick use to be the hightlight of my years growing up but seriously the naked brother band so many parents would not let their kids watch this especially with the name the naked brother band its stupid uncreative show that should not be aired onto tv\"\n        ],\n        \"semantic_type\": \"\",\n        \"description\": \"\"\n      }\n    },\n    {\n      \"column\": \"sentiment\",\n      \"properties\": {\n        \"dtype\": \"number\",\n        \"std\": 0,\n        \"min\": 0,\n        \"max\": 1,\n        \"num_unique_values\": 2,\n        \"samples\": [\n          0,\n          1\n        ],\n        \"semantic_type\": \"\",\n        \"description\": \"\"\n      }\n    }\n  ]\n}"
            }
          },
          "metadata": {},
          "execution_count": 15
        }
      ]
    },
    {
      "cell_type": "markdown",
      "source": [
        "## **Data Visualisation**"
      ],
      "metadata": {
        "id": "Xtxh0VPj4WgJ"
      }
    },
    {
      "cell_type": "code",
      "source": [
        "# Sentiment Distribution: Are there more positive or negative reviews?\n",
        "\n",
        "import matplotlib.pyplot as plt\n",
        "import seaborn as sns\n",
        "\n",
        "plt.figure(figsize=(6, 4))\n",
        "sns.countplot(x=clean_df[label_column], palette=\"coolwarm\")\n",
        "plt.xlabel(\"Sentiment\")\n",
        "plt.ylabel(\"Count\")\n",
        "plt.title(\"Distribution of Sentiments in Dataset\")\n",
        "plt.xticks(ticks=[0, 1], labels=[\"Negative\", \"Positive\"])\n",
        "plt.show()"
      ],
      "metadata": {
        "colab": {
          "base_uri": "https://localhost:8080/",
          "height": 517
        },
        "id": "sB8lv5mX4hQZ",
        "outputId": "176d47ba-f54b-43f5-f02d-e3112bb74da9"
      },
      "execution_count": 10,
      "outputs": [
        {
          "output_type": "stream",
          "name": "stderr",
          "text": [
            "<ipython-input-10-057c243c60df>:7: FutureWarning: \n",
            "\n",
            "Passing `palette` without assigning `hue` is deprecated and will be removed in v0.14.0. Assign the `x` variable to `hue` and set `legend=False` for the same effect.\n",
            "\n",
            "  sns.countplot(x=clean_df[label_column], palette=\"coolwarm\")\n"
          ]
        },
        {
          "output_type": "display_data",
          "data": {
            "text/plain": [
              "<Figure size 600x400 with 1 Axes>"
            ],
            "image/png": "[encoded data removed]"
          },
          "metadata": {}
        }
      ]
    },
    {
      "cell_type": "markdown",
      "source": [
        "**The key observations**\n",
        "- Balanced data: Both Positive and negative sentiments are evenly distributed around 250,00\n",
        "- Since no class imbalance, accuracy is reliable metric for training and F1-score, Precision or Recall is not necessarily needed.\n",
        "- Randomized train-test split with 80%-10%-10% ratio is appropriate and likely to give a result in a well-trained model. Stratified sampling is more cruical for imbalaanced datase.\n",
        "- Since the data is balanced the model won't be  biased towards any sentiments."
      ],
      "metadata": {
        "id": "Mq8CPUZA9h2f"
      }
    },
    {
      "cell_type": "code",
      "source": [
        "# Review Length: How long are the reviews?\n",
        "review_lengths = clean_df[text_column].apply(lambda x: len(x.split()))  # Count words in each review\n",
        "\n",
        "plt.figure(figsize=(8, 4))\n",
        "sns.histplot(review_lengths, bins=30, kde=True, color='purple')\n",
        "plt.xlabel(\"Review Length (Words)\")\n",
        "plt.ylabel(\"Frequency\")\n",
        "plt.title(\"Distribution of Review Lengths\")\n",
        "plt.show()\n"
      ],
      "metadata": {
        "colab": {
          "base_uri": "https://localhost:8080/",
          "height": 410
        },
        "id": "lafkIZJ15BCp",
        "outputId": "1370bbe7-6864-4c7c-f54b-752301a2a4e3"
      },
      "execution_count": 11,
      "outputs": [
        {
          "output_type": "display_data",
          "data": {
            "text/plain": [
              "<Figure size 800x400 with 1 Axes>"
            ],
            "image/png": "[encoded data removed]"
          },
          "metadata": {}
        }
      ]
    },
    {
      "cell_type": "markdown",
      "source": [
        "**Key Observations**\n",
        "- Most reviews are short in 100 - 200 words which means it doesn't require extremely long sequence for training.\n",
        "\n",
        "- There are some reviews that are extremely long app. 1000 words (outliers). So for ensuring efficiency in training truncated sequence at 200 words.\n",
        "\n",
        "- Tokenization and padding is needed  at same length (max_length= 200)\n",
        "\n",
        "- Truncating strategy: Cut off extra words beyond 200 (truncating='post')\n",
        "\n",
        "- LSTM Model Considerations :\n",
        " Use moderate LSTM units (128-64) to balance accuracy & efficiency.\n",
        "Add Dropout (0.2-0.3) to prevent overfitting.\n",
        "Use Pretrained Word Embeddings (GloVe) for better word representation.\n",
        "\n",
        "-Training Considerations :\n",
        "Batch Size = 64 (for stable training).\n",
        "Epochs = 10-15 (monitor validation loss).\n",
        "Early Stopping (stops training if model overfits)."
      ],
      "metadata": {
        "id": "YDcRTeYtBfuM"
      }
    },
    {
      "cell_type": "code",
      "source": [
        "# Most common words in Positive reviews\n",
        "\n",
        "from collections import Counter\n",
        "import itertools\n",
        "import pandas as pd\n",
        "\n",
        "# Extract words from positive reviews\n",
        "positive_reviews = clean_df[clean_df[label_column] == 1][text_column]\n",
        "all_words_positive = list(itertools.chain(*[text.split() for text in positive_reviews]))\n",
        "\n",
        "# Get most common words\n",
        "word_counts_positive = Counter(all_words_positive)\n",
        "common_words_positive = pd.DataFrame(word_counts_positive.most_common(20), columns=[\"Word\", \"Count\"])\n",
        "\n",
        "# Plot\n",
        "plt.figure(figsize=(10, 5))\n",
        "sns.barplot(x=\"Count\", y=\"Word\", data=common_words_positive, palette=\"viridis\")\n",
        "plt.xlabel(\"Frequency\")\n",
        "plt.ylabel(\"Words\")\n",
        "plt.title(\"Most Common Words in Positive Reviews\")\n",
        "plt.show()\n"
      ],
      "metadata": {
        "colab": {
          "base_uri": "https://localhost:8080/",
          "height": 594
        },
        "id": "JQzLE8Cm5C92",
        "outputId": "7a4e0d96-b311-470d-841f-55c98a218d73"
      },
      "execution_count": 12,
      "outputs": [
        {
          "output_type": "stream",
          "name": "stderr",
          "text": [
            "<ipython-input-12-952a6574d199>:17: FutureWarning: \n",
            "\n",
            "Passing `palette` without assigning `hue` is deprecated and will be removed in v0.14.0. Assign the `y` variable to `hue` and set `legend=False` for the same effect.\n",
            "\n",
            "  sns.barplot(x=\"Count\", y=\"Word\", data=common_words_positive, palette=\"viridis\")\n"
          ]
        },
        {
          "output_type": "display_data",
          "data": {
            "text/plain": [
              "<Figure size 1000x500 with 1 Axes>"
            ],
            "image/png": "[encoded data removed]"
          },
          "metadata": {}
        }
      ]
    },
    {
      "cell_type": "markdown",
      "source": [
        "**Key Observations **\n",
        "\n",
        "- 'br' Has Been Successfully Removed → Preprocessing is working correctly.\n",
        "\n",
        "- Film-Related Words Dominate → Words like \"film\", \"movie\", \"story\", \"great\", \"best\", \"love\" suggest the dataset is movie review-focused.\n",
        "\n",
        "- Common Neutral Words Still Exist → Words like \"one\", \"time\", \"well\", \"also\", \"really\" don’t add strong sentiment value and might be filtered.\n",
        "\n",
        "- Limit Vocabulary Size → Set num_words=10,000 to keep only relevant words and remove rare ones.\n",
        "\n",
        "- Use Pretrained Embeddings (Word2Vec) → This will help the model understand sentiment context better.\n",
        "\n",
        "- Optimize Training by Reducing Noise → Remove unnecessary words, add dropout layers, and monitor validation loss."
      ],
      "metadata": {
        "id": "69Z9K2f0H76x"
      }
    },
    {
      "cell_type": "code",
      "source": [
        "# Most common words in Negative reviews\n",
        "\n",
        "# Extract words from negative reviews\n",
        "negative_reviews = clean_df[clean_df[label_column] == 0][text_column]\n",
        "all_words_negative = list(itertools.chain(*[text.split() for text in negative_reviews]))\n",
        "\n",
        "# Get most common words\n",
        "word_counts_negative = Counter(all_words_negative)\n",
        "common_words_negative = pd.DataFrame(word_counts_negative.most_common(20), columns=[\"Word\", \"Count\"])\n",
        "\n",
        "# Plot\n",
        "plt.figure(figsize=(10, 5))\n",
        "sns.barplot(x=\"Count\", y=\"Word\", data=common_words_negative, palette=\"coolwarm\")\n",
        "plt.xlabel(\"Frequency\")\n",
        "plt.ylabel(\"Words\")\n",
        "plt.title(\"Most Common Words in Negative Reviews\")\n",
        "plt.show()\n"
      ],
      "metadata": {
        "colab": {
          "base_uri": "https://localhost:8080/",
          "height": 594
        },
        "id": "F-EjEbxb6P7t",
        "outputId": "c1c9a82d-01e7-4fd0-b50f-97b76e10af96"
      },
      "execution_count": 13,
      "outputs": [
        {
          "output_type": "stream",
          "name": "stderr",
          "text": [
            "<ipython-input-13-35599f8ca119>:13: FutureWarning: \n",
            "\n",
            "Passing `palette` without assigning `hue` is deprecated and will be removed in v0.14.0. Assign the `y` variable to `hue` and set `legend=False` for the same effect.\n",
            "\n",
            "  sns.barplot(x=\"Count\", y=\"Word\", data=common_words_negative, palette=\"coolwarm\")\n"
          ]
        },
        {
          "output_type": "display_data",
          "data": {
            "text/plain": [
              "<Figure size 1000x500 with 1 Axes>"
            ],
            "image/png": "[encoded data removed]"
          },
          "metadata": {}
        }
      ]
    },
    {
      "cell_type": "markdown",
      "source": [
        "Summary of Important Things\n",
        "\n",
        "- Film-Related Words Dominate → The dataset is movie-review focused, so sentiment-heavy words are mixed with general movie-related terms.\n",
        "\n",
        "- Weak Sentiment Words Appear Frequently → Neutral words like \"one\", \"time\", \"even\", \"would\", \"get\" don’t contribute much to sentiment detection. Manually filter them out to improve model focus.\n",
        "\n",
        "- Negative Sentiment Words Are Less Frequent → Unlike positive reviews, negative reviews don’t have strong sentiment words (only \"bad\" stands out). This might make the model struggle.\n",
        "\n",
        "- Refine Preprocessing → Remove unnecessary words, but keep sentiment-heavy words to improve classification accuracy.\n",
        "\n",
        "- LSTM Model Should Include Attention Layers → Helps focus on important words, especially for weakly expressed negative sentiments.\n",
        "\n",
        "- Use Dropout (0.3) & Monitor Validation Loss → Prevent overfitting & ensure the model generalizes well."
      ],
      "metadata": {
        "id": "78rCTWkdJdCk"
      }
    },
    {
      "cell_type": "markdown",
      "source": [
        "**Splitting the data**"
      ],
      "metadata": {
        "id": "uGKGbTDPeFOj"
      }
    },
    {
      "cell_type": "markdown",
      "source": [
        "- We use 80%-10%-10% ratio for splitting the data here\n",
        "\n",
        "80% Training Data → The LSTM model learns patterns from a large portion of the dataset.\n",
        "\n",
        "10% Validation Data → Helps fine-tune hyperparameters (e.g., LSTM units, dropout) & prevent overfitting.\n",
        "\n",
        "10% Test Data → Ensures the model generalizes well on unseen data and provides a reliable accuracy score.\n",
        "\n"
      ],
      "metadata": {
        "id": "Z4oilDNyeLFG"
      }
    },
    {
      "cell_type": "code",
      "source": [
        "from sklearn.model_selection import train_test_split\n",
        "\n",
        "def split_data(texts, labels):\n",
        "    \"\"\"\n",
        "    Splits dataset into train, validation, and test sets using an 80-10-10 ratio.\n",
        "\n",
        "    Parameters:\n",
        "    texts (list): List of cleaned text data.\n",
        "    labels (list): Corresponding sentiment labels.\n",
        "    test_size (float): Proportion of data to hold out for test+validation.\n",
        "    val_size (float): Proportion of remaining test set used for validation.\n",
        "    random_state (int): Seed for reproducibility.\n",
        "\n",
        "    Returns:\n",
        "    train_texts, val_texts, test_texts, train_labels, val_labels, test_labels\n",
        "    \"\"\"\n",
        "    train_texts, test_texts, train_labels, test_labels = train_test_split(\n",
        "        texts, labels, test_size=0.1, random_state=42, stratify=labels\n",
        "\n",
        "\n",
        "    )\n",
        "\n",
        "    train_texts, val_texts, train_labels, val_labels = train_test_split(\n",
        "        train_texts, train_labels, test_size=0.1, random_state=42, stratify=train_labels\n",
        "    )\n",
        "\n",
        "\n",
        "\n",
        "    return train_texts, val_texts, test_texts, train_labels, val_labels, test_labels\n",
        "\n",
        "# Example Usage\n",
        "train_texts, val_texts, test_texts, train_labels, val_labels, test_labels = split_data(\n",
        "    clean_df[text_column], clean_df[label_column]\n",
        ")\n"
      ],
      "metadata": {
        "id": "FRzyVmRKetiQ"
      },
      "execution_count": 17,
      "outputs": []
    },
    {
      "cell_type": "markdown",
      "source": [
        "**Tokenization and Padding.**"
      ],
      "metadata": {
        "id": "tfHbVXhBbiWQ"
      }
    },
    {
      "cell_type": "markdown",
      "source": [
        "Tokenization and padding is the final step of data preprocessing before feeding into the LSTM model ."
      ],
      "metadata": {
        "id": "kDXLV-MYbqa4"
      }
    },
    {
      "cell_type": "markdown",
      "source": [
        "*Why Are We Using Tokenization & Padding?\n",
        "\n",
        "LSTM models cannot process raw text data directly, so we need to convert text into numerical sequences before feeding it into the model.\n",
        "\n",
        "🔹 Tokenization → Converts words into unique integer IDs (numerical format).\n",
        "\n",
        "🔹 Padding → Ensures all sequences have the same length for LSTM processing.\n",
        "\n",
        "Without tokenization & padding, the model cannot understand words or handle varying review lengths."
      ],
      "metadata": {
        "id": "XUuBRbV4jXXL"
      }
    },
    {
      "cell_type": "markdown",
      "source": [
        "Things that we are going to use\n",
        "\n",
        "*   Set max_length=200 (truncate long reviews, pad short ones).\n",
        "*   Limit vocabulary to 10,000 words (num_words=10000) to avoid unnecessary tokens.\n",
        "*  Use Tokenizer(num_words=10000, oov_token=\"<OOV>\") → Limits vocabulary to most frequent words.\n",
        "*  Use pad_sequences(maxlen=200, padding='post', truncating='post') → Ensures all sequences are of fixed length.\n",
        "*  Tokenize & pad separately for train_texts, val_texts, and test_texts → To prevent data leakage.\n",
        "\n"
      ],
      "metadata": {
        "id": "ePT89y56j7cH"
      }
    },
    {
      "cell_type": "code",
      "source": [
        "pip install tensorflow"
      ],
      "metadata": {
        "colab": {
          "base_uri": "https://localhost:8080/"
        },
        "id": "E4FQHqfDwYmB",
        "outputId": "f9dde901-8fcf-4887-9e1c-eab6e9a1ed0e"
      },
      "execution_count": 19,
      "outputs": [
        {
          "output_type": "stream",
          "name": "stdout",
          "text": [
            "Requirement already satisfied: tensorflow in /usr/local/lib/python3.11/dist-packages (2.18.0)\n",
            "Requirement already satisfied: absl-py>=1.0.0 in /usr/local/lib/python3.11/dist-packages (from tensorflow) (1.4.0)\n",
            "Requirement already satisfied: astunparse>=1.6.0 in /usr/local/lib/python3.11/dist-packages (from tensorflow) (1.6.3)\n",
            "Requirement already satisfied: flatbuffers>=24.3.25 in /usr/local/lib/python3.11/dist-packages (from tensorflow) (25.2.10)\n",
            "Requirement already satisfied: gast!=0.5.0,!=0.5.1,!=0.5.2,>=0.2.1 in /usr/local/lib/python3.11/dist-packages (from tensorflow) (0.6.0)\n",
            "Requirement already satisfied: google-pasta>=0.1.1 in /usr/local/lib/python3.11/dist-packages (from tensorflow) (0.2.0)\n",
            "Requirement already satisfied: libclang>=13.0.0 in /usr/local/lib/python3.11/dist-packages (from tensorflow) (18.1.1)\n",
            "Requirement already satisfied: opt-einsum>=2.3.2 in /usr/local/lib/python3.11/dist-packages (from tensorflow) (3.4.0)\n",
            "Requirement already satisfied: packaging in /usr/local/lib/python3.11/dist-packages (from tensorflow) (24.2)\n",
            "Requirement already satisfied: protobuf!=4.21.0,!=4.21.1,!=4.21.2,!=4.21.3,!=4.21.4,!=4.21.5,<6.0.0dev,>=3.20.3 in /usr/local/lib/python3.11/dist-packages (from tensorflow) (4.25.6)\n",
            "Requirement already satisfied: requests<3,>=2.21.0 in /usr/local/lib/python3.11/dist-packages (from tensorflow) (2.32.3)\n",
            "Requirement already satisfied: setuptools in /usr/local/lib/python3.11/dist-packages (from tensorflow) (75.1.0)\n",
            "Requirement already satisfied: six>=1.12.0 in /usr/local/lib/python3.11/dist-packages (from tensorflow) (1.17.0)\n",
            "Requirement already satisfied: termcolor>=1.1.0 in /usr/local/lib/python3.11/dist-packages (from tensorflow) (2.5.0)\n",
            "Requirement already satisfied: typing-extensions>=3.6.6 in /usr/local/lib/python3.11/dist-packages (from tensorflow) (4.12.2)\n",
            "Requirement already satisfied: wrapt>=1.11.0 in /usr/local/lib/python3.11/dist-packages (from tensorflow) (1.17.2)\n",
            "Requirement already satisfied: grpcio<2.0,>=1.24.3 in /usr/local/lib/python3.11/dist-packages (from tensorflow) (1.70.0)\n",
            "Requirement already satisfied: tensorboard<2.19,>=2.18 in /usr/local/lib/python3.11/dist-packages (from tensorflow) (2.18.0)\n",
            "Requirement already satisfied: keras>=3.5.0 in /usr/local/lib/python3.11/dist-packages (from tensorflow) (3.8.0)\n",
            "Requirement already satisfied: numpy<2.1.0,>=1.26.0 in /usr/local/lib/python3.11/dist-packages (from tensorflow) (1.26.4)\n",
            "Requirement already satisfied: h5py>=3.11.0 in /usr/local/lib/python3.11/dist-packages (from tensorflow) (3.12.1)\n",
            "Requirement already satisfied: ml-dtypes<0.5.0,>=0.4.0 in /usr/local/lib/python3.11/dist-packages (from tensorflow) (0.4.1)\n",
            "Requirement already satisfied: tensorflow-io-gcs-filesystem>=0.23.1 in /usr/local/lib/python3.11/dist-packages (from tensorflow) (0.37.1)\n",
            "Requirement already satisfied: wheel<1.0,>=0.23.0 in /usr/local/lib/python3.11/dist-packages (from astunparse>=1.6.0->tensorflow) (0.45.1)\n",
            "Requirement already satisfied: rich in /usr/local/lib/python3.11/dist-packages (from keras>=3.5.0->tensorflow) (13.9.4)\n",
            "Requirement already satisfied: namex in /usr/local/lib/python3.11/dist-packages (from keras>=3.5.0->tensorflow) (0.0.8)\n",
            "Requirement already satisfied: optree in /usr/local/lib/python3.11/dist-packages (from keras>=3.5.0->tensorflow) (0.14.0)\n",
            "Requirement already satisfied: charset-normalizer<4,>=2 in /usr/local/lib/python3.11/dist-packages (from requests<3,>=2.21.0->tensorflow) (3.4.1)\n",
            "Requirement already satisfied: idna<4,>=2.5 in /usr/local/lib/python3.11/dist-packages (from requests<3,>=2.21.0->tensorflow) (3.10)\n",
            "Requirement already satisfied: urllib3<3,>=1.21.1 in /usr/local/lib/python3.11/dist-packages (from requests<3,>=2.21.0->tensorflow) (2.3.0)\n",
            "Requirement already satisfied: certifi>=2017.4.17 in /usr/local/lib/python3.11/dist-packages (from requests<3,>=2.21.0->tensorflow) (2025.1.31)\n",
            "Requirement already satisfied: markdown>=2.6.8 in /usr/local/lib/python3.11/dist-packages (from tensorboard<2.19,>=2.18->tensorflow) (3.7)\n",
            "Requirement already satisfied: tensorboard-data-server<0.8.0,>=0.7.0 in /usr/local/lib/python3.11/dist-packages (from tensorboard<2.19,>=2.18->tensorflow) (0.7.2)\n",
            "Requirement already satisfied: werkzeug>=1.0.1 in /usr/local/lib/python3.11/dist-packages (from tensorboard<2.19,>=2.18->tensorflow) (3.1.3)\n",
            "Requirement already satisfied: MarkupSafe>=2.1.1 in /usr/local/lib/python3.11/dist-packages (from werkzeug>=1.0.1->tensorboard<2.19,>=2.18->tensorflow) (3.0.2)\n",
            "Requirement already satisfied: markdown-it-py>=2.2.0 in /usr/local/lib/python3.11/dist-packages (from rich->keras>=3.5.0->tensorflow) (3.0.0)\n",
            "Requirement already satisfied: pygments<3.0.0,>=2.13.0 in /usr/local/lib/python3.11/dist-packages (from rich->keras>=3.5.0->tensorflow) (2.18.0)\n",
            "Requirement already satisfied: mdurl~=0.1 in /usr/local/lib/python3.11/dist-packages (from markdown-it-py>=2.2.0->rich->keras>=3.5.0->tensorflow) (0.1.2)\n"
          ]
        }
      ]
    },
    {
      "cell_type": "code",
      "source": [
        "from tensorflow.keras.preprocessing.text import Tokenizer\n",
        "from tensorflow.keras.preprocessing.sequence import pad_sequences\n"
      ],
      "metadata": {
        "id": "bXsddEp-Jr21"
      },
      "execution_count": 20,
      "outputs": []
    },
    {
      "cell_type": "code",
      "source": [
        "def tokenize_and_pad(texts, vocab_size=10000, max_length=150):\n",
        "    \"\"\"\n",
        "    Tokenizes text data and applies padding.\n",
        "\n",
        "    Parameters:\n",
        "    texts (list): List of text reviews.\n",
        "    vocab_size (int): Maximum number of words in vocabulary.\n",
        "    max_length (int): Fixed sequence length.\n",
        "\n",
        "    Returns:\n",
        "    sequences (array): Tokenized & padded sequences.\n",
        "    tokenizer (object): Fitted tokenizer for inverse mapping.\n",
        "    \"\"\"\n",
        "    print(\"Type of input received:\", type(texts))\n",
        "    print(\"Example of first 5 inputs:\", texts[:5])  # Check first 5 elements\n",
        "\n",
        "    tokenizer = Tokenizer(num_words=vocab_size, oov_token=\"<OOV>\", filters='!\"#$%&()*+,-./:;<=>?@[\\\\]^_`{|}~')  # OOV token for unseen words\n",
        "    tokenizer.fit_on_texts(texts)  # Learn word mappings\n",
        "\n",
        "    sequences = tokenizer.texts_to_sequences(texts)  # Convert words to integers\n",
        "    padded_sequences = pad_sequences(sequences, maxlen=max_length, padding='post', truncating='post')  # Pad sequences\n",
        "\n",
        "    return padded_sequences, tokenizer\n"
      ],
      "metadata": {
        "id": "ZeAvloGFlCaa"
      },
      "execution_count": 21,
      "outputs": []
    },
    {
      "cell_type": "code",
      "source": [
        "# Apply tokenization & padding separately for each dataset split\n",
        "padded_train, tokenizer = tokenize_and_pad(train_texts) # Calls the tokenize_and_pad function\n",
        "padded_val, _ = tokenize_and_pad(val_texts, vocab_size=10000, max_length=250) # Does the same tokenization and padding for validation data with mentioned specifies.\n",
        "                                                                              # Stores in padded_val, underscore _ is a placeholder for the tokenized and padded validation data.\n",
        "padded_test, _ = tokenize_and_pad(test_texts, vocab_size=10000, max_length=250)\n"
      ],
      "metadata": {
        "colab": {
          "base_uri": "https://localhost:8080/"
        },
        "id": "p7bwSu7SlHx6",
        "outputId": "d22d338c-c04c-4729-f48a-0a11f5283596"
      },
      "execution_count": 22,
      "outputs": [
        {
          "output_type": "stream",
          "name": "stdout",
          "text": [
            "Type of input received: <class 'pandas.core.series.Series'>\n",
            "Example of first 5 inputs: 4674     though it hardly compares to other sci fi film...\n",
            "35895    if jacqueline mckenzie and john lynch weren su...\n",
            "33299    i ve just visited russian forum of our tv chan...\n",
            "36935    hmmm yeah this episode is extremely underrated...\n",
            "31773    i seem to be disagreeing with lot of folks her...\n",
            "Name: review, dtype: object\n",
            "Type of input received: <class 'pandas.core.series.Series'>\n",
            "Example of first 5 inputs: 44812    i went to this movie expecting an artsy scary ...\n",
            "20176    fado is sad almost bluesy style of portuguese ...\n",
            "797      emma is horribly flawed film based on jane aus...\n",
            "22837    cause they re both pretty lousy think the best...\n",
            "16012    movies just don get worse than this horrible p...\n",
            "Name: review, dtype: object\n",
            "Type of input received: <class 'pandas.core.series.Series'>\n",
            "Example of first 5 inputs: 28895    _saltmen_ is long film for its genre and quite...\n",
            "25362    in iran women are not admitted to soccer games...\n",
            "7639     i really hope that concorde new horizons wasn ...\n",
            "1967     this film is very funny film the violence is b...\n",
            "33691    the first time saw this film was in shock for ...\n",
            "Name: review, dtype: object\n"
          ]
        }
      ]
    },
    {
      "cell_type": "code",
      "source": [
        "print(tokenizer.word_index['<OOV>'])  # Check frequency of OOV tokens\n"
      ],
      "metadata": {
        "colab": {
          "base_uri": "https://localhost:8080/"
        },
        "id": "fYPWV6_4Se7I",
        "outputId": "d0b073c2-a5ac-4779-e915-ac55ab3b4b79"
      },
      "execution_count": 23,
      "outputs": [
        {
          "output_type": "stream",
          "name": "stdout",
          "text": [
            "1\n"
          ]
        }
      ]
    },
    {
      "cell_type": "code",
      "source": [
        "print(\"Training Data Shape:\", padded_train.shape)\n",
        "print(\"Validation Data Shape:\", padded_val.shape)\n",
        "print(\"Test Data Shape:\", padded_test.shape)\n"
      ],
      "metadata": {
        "colab": {
          "base_uri": "https://localhost:8080/"
        },
        "id": "GnM0IrdKlU4I",
        "outputId": "98d3437f-5303-4d0a-ef4e-715183fe375f"
      },
      "execution_count": 24,
      "outputs": [
        {
          "output_type": "stream",
          "name": "stdout",
          "text": [
            "Training Data Shape: (40160, 150)\n",
            "Validation Data Shape: (4463, 250)\n",
            "Test Data Shape: (4959, 250)\n"
          ]
        }
      ]
    },
    {
      "cell_type": "code",
      "source": [
        "\n",
        "\n",
        "print(\"Positive labels in Train:\", np.sum(train_labels))\n",
        "print(\"Negative labels in Train:\", len(train_labels) - np.sum(train_labels))\n"
      ],
      "metadata": {
        "colab": {
          "base_uri": "https://localhost:8080/"
        },
        "id": "rROOaIszusAK",
        "outputId": "7ea3722a-b700-450e-918f-397d5811e1d2"
      },
      "execution_count": 25,
      "outputs": [
        {
          "output_type": "stream",
          "name": "stdout",
          "text": [
            "Positive labels in Train: 20155\n",
            "Negative labels in Train: 20005\n"
          ]
        }
      ]
    },
    {
      "cell_type": "markdown",
      "source": [
        "# **Model Development**"
      ],
      "metadata": {
        "id": "DF4GUGs0_uFj"
      }
    },
    {
      "cell_type": "markdown",
      "source": [
        "**Why LSTM/BiLSTM?**"
      ],
      "metadata": {
        "id": "E__twZ8VqQGZ"
      }
    },
    {
      "cell_type": "markdown",
      "source": [
        "LSTMs are effective for sequential data because they can learn long-term dependencies better than regular RNNs. BiLSTM improves accuracy by capturing context from both directions (past & future words)."
      ],
      "metadata": {
        "id": "JYKBBrVkqX1A"
      }
    },
    {
      "cell_type": "markdown",
      "source": [
        "**Model Architecture**"
      ],
      "metadata": {
        "id": "dnl2RZExqb46"
      }
    },
    {
      "cell_type": "markdown",
      "source": [
        "- Embedding Layer: Uses pretrained Word2Vec embeddings.\n",
        "\n",
        "- Bidirectional LSTM (BiLSTM): Captures sequence dependencies.\n",
        "\n",
        "- Dropout Layers: Prevents overfitting.\n",
        "\n",
        "- Dense Layer: Outputs sentiment classification (0 or 1).\n",
        "\n",
        "- Activation Function: sigmoid for binary classification.\n",
        "\n",
        "- Loss Function: binary_crossentropy (used for binary classification tasks).\n",
        "\n",
        "- Optimizer: Adam (adaptive learning rate optimizer)."
      ],
      "metadata": {
        "id": "yvohADxyqfg7"
      }
    },
    {
      "cell_type": "code",
      "source": [
        "# Download GloVe Embeddings\n",
        "!wget http://nlp.stanford.edu/data/glove.6B.zip\n",
        "!unzip glove.6B.zip\n"
      ],
      "metadata": {
        "colab": {
          "base_uri": "https://localhost:8080/"
        },
        "id": "UEpRXUWfCjrW",
        "outputId": "b262e17a-adcf-4f1f-f172-41003b28ac29"
      },
      "execution_count": 21,
      "outputs": [
        {
          "output_type": "stream",
          "name": "stdout",
          "text": [
            "--2025-03-02 14:21:14--  http://nlp.stanford.edu/data/glove.6B.zip\n",
            "Resolving nlp.stanford.edu (nlp.stanford.edu)... 171.64.67.140\n",
            "Connecting to nlp.stanford.edu (nlp.stanford.edu)|171.64.67.140|:80... connected.\n",
            "HTTP request sent, awaiting response... 302 Found\n",
            "Location: https://nlp.stanford.edu/data/glove.6B.zip [following]\n",
            "--2025-03-02 14:21:15--  https://nlp.stanford.edu/data/glove.6B.zip\n",
            "Connecting to nlp.stanford.edu (nlp.stanford.edu)|171.64.67.140|:443... connected.\n",
            "HTTP request sent, awaiting response... 301 Moved Permanently\n",
            "Location: https://downloads.cs.stanford.edu/nlp/data/glove.6B.zip [following]\n",
            "--2025-03-02 14:21:16--  https://downloads.cs.stanford.edu/nlp/data/glove.6B.zip\n",
            "Resolving downloads.cs.stanford.edu (downloads.cs.stanford.edu)... 171.64.64.22\n",
            "Connecting to downloads.cs.stanford.edu (downloads.cs.stanford.edu)|171.64.64.22|:443... connected.\n",
            "HTTP request sent, awaiting response... 200 OK\n",
            "Length: 862182613 (822M) [application/zip]\n",
            "Saving to: ‘glove.6B.zip’\n",
            "\n",
            "glove.6B.zip         20%[===>                ] 172.40M  5.11MB/s    eta 1m 58s ^C\n",
            "Archive:  glove.6B.zip\n",
            "  End-of-central-directory signature not found.  Either this file is not\n",
            "  a zipfile, or it constitutes one disk of a multi-part archive.  In the\n",
            "  latter case the central directory and zipfile comment will be found on\n",
            "  the last disk(s) of this archive.\n",
            "unzip:  cannot find zipfile directory in one of glove.6B.zip or\n",
            "        glove.6B.zip.zip, and cannot find glove.6B.zip.ZIP, period.\n"
          ]
        }
      ]
    },
    {
      "cell_type": "code",
      "source": [
        "# Load GloVe Embeddings\n",
        "\n",
        "#import numpy as np\n",
        "\n",
        "# Load GloVe embeddings (50D, 100D, or 300D)\n",
        "#glove_path = \"/content/glove.6B.100d.txt\"  # Path to downloaded GloVe file\n",
        "\n",
        "# Load the embeddings into a dictionary\n",
        "#embedding_index = {}\n",
        "\n",
        "#with open(glove_path, encoding='utf-8') as f:\n",
        "   # for line in f:\n",
        "    #    values = line.split()\n",
        "    #    word = values[0]  # First value is the word\n",
        "    #    coeffs = np.asarray(values[1:], dtype='float32')  # Remaining values are the embedding vector\n",
        "     #   embedding_index[word] = coeffs\n",
        "\n",
        "#print(f\"Loaded {len(embedding_index)} word vectors.\")"
      ],
      "metadata": {
        "colab": {
          "base_uri": "https://localhost:8080/"
        },
        "id": "pilUjBReAKwK",
        "outputId": "9d9ba53e-0393-4405-e64c-78249539121b"
      },
      "execution_count": 64,
      "outputs": [
        {
          "output_type": "stream",
          "name": "stdout",
          "text": [
            "Loaded 400000 word vectors.\n"
          ]
        }
      ]
    },
    {
      "cell_type": "code",
      "source": [
        "# Create an Embedding Matrix\n",
        "#embedding_dim = 100  # Use 100D GloVe vectors\n",
        "#word_index = tokenizer.word_index  # Get word-index mapping from tokenizer\n",
        "\n",
        "# Initialize embedding matrix (vocab_size, embedding_dim)\n",
        "#embedding_matrix = np.zeros((10000, embedding_dim))\n",
        "\n",
        "#for word, i in word_index.items():\n",
        "    #if i < 10000:  # Limit to vocab size\n",
        "      #  embedding_vector = embedding_index.get(word)  # Get GloVe vector if word exists\n",
        "       # if embedding_vector is not None:\n",
        "         #   embedding_matrix[i] = embedding_vector  # Assign GloVe vector to word index\n",
        "\n",
        "#print(\"✅ Embedding matrix created!\")\n"
      ],
      "metadata": {
        "colab": {
          "base_uri": "https://localhost:8080/"
        },
        "id": "agPa1skrDt8p",
        "outputId": "7b5ec4c7-f906-4697-ab48-9bd763570614"
      },
      "execution_count": 65,
      "outputs": [
        {
          "output_type": "stream",
          "name": "stdout",
          "text": [
            "✅ Embedding matrix created!\n"
          ]
        }
      ]
    },
    {
      "cell_type": "code",
      "source": [
        "from gensim.models import Word2Vec  # CHANGE MADE: Using Word2Vec Instead of GloVe\n",
        "\n",
        "# Train Word2Vec on IMDB dataset (self-trained embeddings)\n",
        "train_sentences = [text.split() for text in train_texts]\n",
        "word2vec_model = Word2Vec(sentences=train_sentences, vector_size=100, window=5, min_count=5, workers=4)\n"
      ],
      "metadata": {
        "id": "wXOArijEbGaP"
      },
      "execution_count": 26,
      "outputs": []
    },
    {
      "cell_type": "code",
      "source": [
        "# Create an Embedding Matrix for Word2Vec\n",
        "embedding_dim = 100\n",
        "word_index = tokenizer.word_index\n",
        "embedding_matrix = np.zeros((10000, embedding_dim))\n",
        "\n",
        "for word, i in word_index.items():\n",
        "    if i < 10000 and word in word2vec_model.wv:\n",
        "        embedding_matrix[i] = word2vec_model.wv[word]\n",
        "\n",
        "print(\"Word2Vec Embedding Matrix Created!\")\n"
      ],
      "metadata": {
        "colab": {
          "base_uri": "https://localhost:8080/"
        },
        "id": "xcrdCiGqdACN",
        "outputId": "da989aec-53d4-4c7a-b2d5-f4742d7f50f4"
      },
      "execution_count": 27,
      "outputs": [
        {
          "output_type": "stream",
          "name": "stdout",
          "text": [
            "Word2Vec Embedding Matrix Created!\n"
          ]
        }
      ]
    },
    {
      "cell_type": "code",
      "source": [
        "# Define the model architecture\n",
        "\n",
        "from tensorflow.keras.layers import Embedding, LSTM, Dense, Dropout, SpatialDropout1D, Bidirectional\n",
        "from tensorflow.keras.models import Sequential\n",
        "from tensorflow.keras.regularizers import l2\n",
        "\n",
        "# Define Model\n",
        "model = Sequential([\n",
        "    Embedding(input_dim=10000, output_dim=100, input_length=150,\n",
        "              weights=[embedding_matrix], trainable=True),  # Use Pretrained GloVe\n",
        "    SpatialDropout1D(0.2),\n",
        "    #LSTM(64, return_sequences=True, kernel_regularizer=l2(0.01)),  # Reduce LSTM units & add L2 regularization,\n",
        "    Bidirectional(LSTM(32, return_sequences=True, kernel_regularizer=l2(0.005))),  # Bidirectional LSTM\n",
        "    Dropout(0.3),\n",
        "    #LSTM(32, kernel_regularizer=l2(0.01)),  # Reduce second LSTM layer size\n",
        "    #Bidirectional(LSTM(32)),  # Second Bidirectional LSTM layer\n",
        "    LSTM(32, kernel_regularizer=l2(0.005)),\n",
        "    #Bidirectional(LSTM(16, kernel_regularizer=l2(0.01))),\n",
        "    Dropout(0.3),\n",
        "    Dense(1, activation='sigmoid')\n",
        "])\n"
      ],
      "metadata": {
        "colab": {
          "base_uri": "https://localhost:8080/"
        },
        "id": "oXVXqQ-0D2ce",
        "outputId": "e17e8613-a9a0-444d-a6bc-0393d0728209"
      },
      "execution_count": 28,
      "outputs": [
        {
          "output_type": "stream",
          "name": "stderr",
          "text": [
            "/usr/local/lib/python3.11/dist-packages/keras/src/layers/core/embedding.py:90: UserWarning: Argument `input_length` is deprecated. Just remove it.\n",
            "  warnings.warn(\n"
          ]
        }
      ]
    },
    {
      "cell_type": "code",
      "source": [
        "# Compile the model\n",
        "\n",
        "from tensorflow.keras.optimizers import Adam\n",
        "\n",
        "model.compile(loss='binary_crossentropy', optimizer=Adam(learning_rate=0.0001), metrics=['accuracy'])\n",
        "\n"
      ],
      "metadata": {
        "id": "ioEYLmNlECTJ"
      },
      "execution_count": 29,
      "outputs": []
    },
    {
      "cell_type": "code",
      "source": [
        "# Display the Model Summary\n",
        "model.summary()\n"
      ],
      "metadata": {
        "colab": {
          "base_uri": "https://localhost:8080/",
          "height": 353
        },
        "id": "Gjbv-9lvEb3j",
        "outputId": "8946d715-0f7d-426f-fbfc-2f0556f83162"
      },
      "execution_count": 30,
      "outputs": [
        {
          "output_type": "display_data",
          "data": {
            "text/plain": [
              "\u001b[1mModel: \"sequential\"\u001b[0m\n"
            ],
            "text/html": [
              "<pre style=\"white-space:pre;overflow-x:auto;line-height:normal;font-family:Menlo,'DejaVu Sans Mono',consolas,'Courier New',monospace\"><span style=\"font-weight: bold\">Model: \"sequential\"</span>\n",
              "</pre>\n"
            ]
          },
          "metadata": {}
        },
        {
          "output_type": "display_data",
          "data": {
            "text/plain": [
              "┏━━━━━━━━━━━━━━━━━━━━━━━━━━━━━━━━━━━━━━┳━━━━━━━━━━━━━━━━━━━━━━━━━━━━━┳━━━━━━━━━━━━━━━━━┓\n",
              "┃\u001b[1m \u001b[0m\u001b[1mLayer (type)                        \u001b[0m\u001b[1m \u001b[0m┃\u001b[1m \u001b[0m\u001b[1mOutput Shape               \u001b[0m\u001b[1m \u001b[0m┃\u001b[1m \u001b[0m\u001b[1m        Param #\u001b[0m\u001b[1m \u001b[0m┃\n",
              "┡━━━━━━━━━━━━━━━━━━━━━━━━━━━━━━━━━━━━━━╇━━━━━━━━━━━━━━━━━━━━━━━━━━━━━╇━━━━━━━━━━━━━━━━━┩\n",
              "│ embedding (\u001b[38;5;33mEmbedding\u001b[0m)                │ ?                           │       \u001b[38;5;34m1,000,000\u001b[0m │\n",
              "├──────────────────────────────────────┼─────────────────────────────┼─────────────────┤\n",
              "│ spatial_dropout1d (\u001b[38;5;33mSpatialDropout1D\u001b[0m) │ ?                           │               \u001b[38;5;34m0\u001b[0m │\n",
              "├──────────────────────────────────────┼─────────────────────────────┼─────────────────┤\n",
              "│ bidirectional (\u001b[38;5;33mBidirectional\u001b[0m)        │ ?                           │     \u001b[38;5;34m0\u001b[0m (unbuilt) │\n",
              "├──────────────────────────────────────┼─────────────────────────────┼─────────────────┤\n",
              "│ dropout (\u001b[38;5;33mDropout\u001b[0m)                    │ ?                           │               \u001b[38;5;34m0\u001b[0m │\n",
              "├──────────────────────────────────────┼─────────────────────────────┼─────────────────┤\n",
              "│ lstm_1 (\u001b[38;5;33mLSTM\u001b[0m)                        │ ?                           │     \u001b[38;5;34m0\u001b[0m (unbuilt) │\n",
              "├──────────────────────────────────────┼─────────────────────────────┼─────────────────┤\n",
              "│ dropout_1 (\u001b[38;5;33mDropout\u001b[0m)                  │ ?                           │               \u001b[38;5;34m0\u001b[0m │\n",
              "├──────────────────────────────────────┼─────────────────────────────┼─────────────────┤\n",
              "│ dense (\u001b[38;5;33mDense\u001b[0m)                        │ ?                           │     \u001b[38;5;34m0\u001b[0m (unbuilt) │\n",
              "└──────────────────────────────────────┴─────────────────────────────┴─────────────────┘\n"
            ],
            "text/html": [
              "<pre style=\"white-space:pre;overflow-x:auto;line-height:normal;font-family:Menlo,'DejaVu Sans Mono',consolas,'Courier New',monospace\">┏━━━━━━━━━━━━━━━━━━━━━━━━━━━━━━━━━━━━━━┳━━━━━━━━━━━━━━━━━━━━━━━━━━━━━┳━━━━━━━━━━━━━━━━━┓\n",
              "┃<span style=\"font-weight: bold\"> Layer (type)                         </span>┃<span style=\"font-weight: bold\"> Output Shape                </span>┃<span style=\"font-weight: bold\">         Param # </span>┃\n",
              "┡━━━━━━━━━━━━━━━━━━━━━━━━━━━━━━━━━━━━━━╇━━━━━━━━━━━━━━━━━━━━━━━━━━━━━╇━━━━━━━━━━━━━━━━━┩\n",
              "│ embedding (<span style=\"color: #0087ff; text-decoration-color: #0087ff\">Embedding</span>)                │ ?                           │       <span style=\"color: #00af00; text-decoration-color: #00af00\">1,000,000</span> │\n",
              "├──────────────────────────────────────┼─────────────────────────────┼─────────────────┤\n",
              "│ spatial_dropout1d (<span style=\"color: #0087ff; text-decoration-color: #0087ff\">SpatialDropout1D</span>) │ ?                           │               <span style=\"color: #00af00; text-decoration-color: #00af00\">0</span> │\n",
              "├──────────────────────────────────────┼─────────────────────────────┼─────────────────┤\n",
              "│ bidirectional (<span style=\"color: #0087ff; text-decoration-color: #0087ff\">Bidirectional</span>)        │ ?                           │     <span style=\"color: #00af00; text-decoration-color: #00af00\">0</span> (unbuilt) │\n",
              "├──────────────────────────────────────┼─────────────────────────────┼─────────────────┤\n",
              "│ dropout (<span style=\"color: #0087ff; text-decoration-color: #0087ff\">Dropout</span>)                    │ ?                           │               <span style=\"color: #00af00; text-decoration-color: #00af00\">0</span> │\n",
              "├──────────────────────────────────────┼─────────────────────────────┼─────────────────┤\n",
              "│ lstm_1 (<span style=\"color: #0087ff; text-decoration-color: #0087ff\">LSTM</span>)                        │ ?                           │     <span style=\"color: #00af00; text-decoration-color: #00af00\">0</span> (unbuilt) │\n",
              "├──────────────────────────────────────┼─────────────────────────────┼─────────────────┤\n",
              "│ dropout_1 (<span style=\"color: #0087ff; text-decoration-color: #0087ff\">Dropout</span>)                  │ ?                           │               <span style=\"color: #00af00; text-decoration-color: #00af00\">0</span> │\n",
              "├──────────────────────────────────────┼─────────────────────────────┼─────────────────┤\n",
              "│ dense (<span style=\"color: #0087ff; text-decoration-color: #0087ff\">Dense</span>)                        │ ?                           │     <span style=\"color: #00af00; text-decoration-color: #00af00\">0</span> (unbuilt) │\n",
              "└──────────────────────────────────────┴─────────────────────────────┴─────────────────┘\n",
              "</pre>\n"
            ]
          },
          "metadata": {}
        },
        {
          "output_type": "display_data",
          "data": {
            "text/plain": [
              "\u001b[1m Total params: \u001b[0m\u001b[38;5;34m1,000,000\u001b[0m (3.81 MB)\n"
            ],
            "text/html": [
              "<pre style=\"white-space:pre;overflow-x:auto;line-height:normal;font-family:Menlo,'DejaVu Sans Mono',consolas,'Courier New',monospace\"><span style=\"font-weight: bold\"> Total params: </span><span style=\"color: #00af00; text-decoration-color: #00af00\">1,000,000</span> (3.81 MB)\n",
              "</pre>\n"
            ]
          },
          "metadata": {}
        },
        {
          "output_type": "display_data",
          "data": {
            "text/plain": [
              "\u001b[1m Trainable params: \u001b[0m\u001b[38;5;34m1,000,000\u001b[0m (3.81 MB)\n"
            ],
            "text/html": [
              "<pre style=\"white-space:pre;overflow-x:auto;line-height:normal;font-family:Menlo,'DejaVu Sans Mono',consolas,'Courier New',monospace\"><span style=\"font-weight: bold\"> Trainable params: </span><span style=\"color: #00af00; text-decoration-color: #00af00\">1,000,000</span> (3.81 MB)\n",
              "</pre>\n"
            ]
          },
          "metadata": {}
        },
        {
          "output_type": "display_data",
          "data": {
            "text/plain": [
              "\u001b[1m Non-trainable params: \u001b[0m\u001b[38;5;34m0\u001b[0m (0.00 B)\n"
            ],
            "text/html": [
              "<pre style=\"white-space:pre;overflow-x:auto;line-height:normal;font-family:Menlo,'DejaVu Sans Mono',consolas,'Courier New',monospace\"><span style=\"font-weight: bold\"> Non-trainable params: </span><span style=\"color: #00af00; text-decoration-color: #00af00\">0</span> (0.00 B)\n",
              "</pre>\n"
            ]
          },
          "metadata": {}
        }
      ]
    },
    {
      "cell_type": "markdown",
      "source": [
        "**Training Strategy**"
      ],
      "metadata": {
        "id": "Q-MpCSD-FnQ7"
      }
    },
    {
      "cell_type": "markdown",
      "source": [
        "- Train-Validation-Test Split: 80%-10%-10%\n",
        "\n",
        "- Batch Size: 64\n",
        "\n",
        "- Epochs: 15 (early stopping applied)\n",
        "\n",
        "- Optimizer: Adam (learning rate 0.0001)\n",
        "\n",
        "- Evaluation Metrics: Accuracy, loss, and validation loss monitoring."
      ],
      "metadata": {
        "id": "OcRbTiQhrEaY"
      }
    },
    {
      "cell_type": "code",
      "source": [
        "# Define training parameters\n",
        "\n",
        "batch_size = 64  # Number of samples per training step\n",
        "epochs = 15  # Number of training iterations"
      ],
      "metadata": {
        "id": "38xYxOKuFrhZ"
      },
      "execution_count": 31,
      "outputs": []
    },
    {
      "cell_type": "code",
      "source": [
        "# Tain the Model\n",
        "\n",
        "from tensorflow.keras.callbacks import EarlyStopping\n",
        "\n",
        "# Define Early Stopping\n",
        "early_stop = EarlyStopping(monitor='val_loss', patience=7, restore_best_weights=True)\n",
        "\n",
        "# Retrain the Model\n",
        "history = model.fit(\n",
        "    padded_train, train_labels,\n",
        "    validation_data=(padded_val, val_labels),\n",
        "    batch_size=batch_size,\n",
        "    epochs=epochs,  # Can run longer, but early stopping will stop unnecessary epochs\n",
        "    callbacks=[early_stop],  # Stop if no improvement in 5 epochs\n",
        "    verbose=1\n",
        ")\n",
        "\n",
        "\n"
      ],
      "metadata": {
        "colab": {
          "base_uri": "https://localhost:8080/"
        },
        "id": "yZ7imGgTF2W7",
        "outputId": "b2c055e2-775b-436e-c072-bbf99b7699ca"
      },
      "execution_count": 32,
      "outputs": [
        {
          "output_type": "stream",
          "name": "stdout",
          "text": [
            "Epoch 1/15\n",
            "\u001b[1m628/628\u001b[0m \u001b[32m━━━━━━━━━━━━━━━━━━━━\u001b[0m\u001b[37m\u001b[0m \u001b[1m23s\u001b[0m 25ms/step - accuracy: 0.5381 - loss: 1.9397 - val_accuracy: 0.5649 - val_loss: 1.3595\n",
            "Epoch 2/15\n",
            "\u001b[1m628/628\u001b[0m \u001b[32m━━━━━━━━━━━━━━━━━━━━\u001b[0m\u001b[37m\u001b[0m \u001b[1m17s\u001b[0m 25ms/step - accuracy: 0.7367 - loss: 1.1195 - val_accuracy: 0.5649 - val_loss: 1.2290\n",
            "Epoch 3/15\n",
            "\u001b[1m628/628\u001b[0m \u001b[32m━━━━━━━━━━━━━━━━━━━━\u001b[0m\u001b[37m\u001b[0m \u001b[1m20s\u001b[0m 24ms/step - accuracy: 0.7730 - loss: 0.9215 - val_accuracy: 0.5521 - val_loss: 1.2015\n",
            "Epoch 4/15\n",
            "\u001b[1m628/628\u001b[0m \u001b[32m━━━━━━━━━━━━━━━━━━━━\u001b[0m\u001b[37m\u001b[0m \u001b[1m21s\u001b[0m 24ms/step - accuracy: 0.7846 - loss: 0.8224 - val_accuracy: 0.5521 - val_loss: 1.1480\n",
            "Epoch 5/15\n",
            "\u001b[1m628/628\u001b[0m \u001b[32m━━━━━━━━━━━━━━━━━━━━\u001b[0m\u001b[37m\u001b[0m \u001b[1m21s\u001b[0m 24ms/step - accuracy: 0.8012 - loss: 0.7367 - val_accuracy: 0.5581 - val_loss: 1.1972\n",
            "Epoch 6/15\n",
            "\u001b[1m628/628\u001b[0m \u001b[32m━━━━━━━━━━━━━━━━━━━━\u001b[0m\u001b[37m\u001b[0m \u001b[1m21s\u001b[0m 25ms/step - accuracy: 0.8127 - loss: 0.6761 - val_accuracy: 0.5532 - val_loss: 1.1020\n",
            "Epoch 7/15\n",
            "\u001b[1m628/628\u001b[0m \u001b[32m━━━━━━━━━━━━━━━━━━━━\u001b[0m\u001b[37m\u001b[0m \u001b[1m21s\u001b[0m 26ms/step - accuracy: 0.8266 - loss: 0.6211 - val_accuracy: 0.5691 - val_loss: 1.0621\n",
            "Epoch 8/15\n",
            "\u001b[1m628/628\u001b[0m \u001b[32m━━━━━━━━━━━━━━━━━━━━\u001b[0m\u001b[37m\u001b[0m \u001b[1m20s\u001b[0m 25ms/step - accuracy: 0.8280 - loss: 0.5950 - val_accuracy: 0.5523 - val_loss: 1.2268\n",
            "Epoch 9/15\n",
            "\u001b[1m628/628\u001b[0m \u001b[32m━━━━━━━━━━━━━━━━━━━━\u001b[0m\u001b[37m\u001b[0m \u001b[1m19s\u001b[0m 23ms/step - accuracy: 0.8371 - loss: 0.5592 - val_accuracy: 0.5481 - val_loss: 1.1440\n",
            "Epoch 10/15\n",
            "\u001b[1m628/628\u001b[0m \u001b[32m━━━━━━━━━━━━━━━━━━━━\u001b[0m\u001b[37m\u001b[0m \u001b[1m21s\u001b[0m 23ms/step - accuracy: 0.8443 - loss: 0.5332 - val_accuracy: 0.5552 - val_loss: 1.2362\n",
            "Epoch 11/15\n",
            "\u001b[1m628/628\u001b[0m \u001b[32m━━━━━━━━━━━━━━━━━━━━\u001b[0m\u001b[37m\u001b[0m \u001b[1m21s\u001b[0m 23ms/step - accuracy: 0.8470 - loss: 0.5166 - val_accuracy: 0.5552 - val_loss: 1.1977\n",
            "Epoch 12/15\n",
            "\u001b[1m628/628\u001b[0m \u001b[32m━━━━━━━━━━━━━━━━━━━━\u001b[0m\u001b[37m\u001b[0m \u001b[1m21s\u001b[0m 23ms/step - accuracy: 0.8510 - loss: 0.4969 - val_accuracy: 0.5429 - val_loss: 1.2981\n",
            "Epoch 13/15\n",
            "\u001b[1m628/628\u001b[0m \u001b[32m━━━━━━━━━━━━━━━━━━━━\u001b[0m\u001b[37m\u001b[0m \u001b[1m20s\u001b[0m 23ms/step - accuracy: 0.8539 - loss: 0.4818 - val_accuracy: 0.5416 - val_loss: 1.3124\n",
            "Epoch 14/15\n",
            "\u001b[1m628/628\u001b[0m \u001b[32m━━━━━━━━━━━━━━━━━━━━\u001b[0m\u001b[37m\u001b[0m \u001b[1m21s\u001b[0m 24ms/step - accuracy: 0.8588 - loss: 0.4741 - val_accuracy: 0.5443 - val_loss: 1.4785\n"
          ]
        }
      ]
    },
    {
      "cell_type": "markdown",
      "source": [
        "**Model Evaluation**"
      ],
      "metadata": {
        "id": "TUWhcrsdrXAH"
      }
    },
    {
      "cell_type": "markdown",
      "source": [
        "- Test Accuracy: Displayed after model evaluation.\n",
        "\n",
        "- Plots: Training & validation loss/accuracy plots.\n",
        "\n",
        "- Confusion Matrix: Analyze misclassifications."
      ],
      "metadata": {
        "id": "tX1Twaxornsq"
      }
    },
    {
      "cell_type": "markdown",
      "source": [],
      "metadata": {
        "id": "Q6NCjkjTrf9G"
      }
    },
    {
      "cell_type": "code",
      "source": [
        "# Evaluate the model on the test set\n",
        "test_loss, test_accuracy = model.evaluate(padded_test, test_labels)\n",
        "\n",
        "# Print test accuracy\n",
        "print(f\"Test Accuracy: {test_accuracy:.4f}\")\n",
        "print(f\"Test Loss: {test_loss:.4f}\")\n"
      ],
      "metadata": {
        "colab": {
          "base_uri": "https://localhost:8080/"
        },
        "id": "YRnOiD0AoTY-",
        "outputId": "305b15d1-606d-4a90-a79f-ff561789781c"
      },
      "execution_count": 33,
      "outputs": [
        {
          "output_type": "stream",
          "name": "stdout",
          "text": [
            "\u001b[1m155/155\u001b[0m \u001b[32m━━━━━━━━━━━━━━━━━━━━\u001b[0m\u001b[37m\u001b[0m \u001b[1m2s\u001b[0m 16ms/step - accuracy: 0.5589 - loss: 1.0672\n",
            "Test Accuracy: 0.5531\n",
            "Test Loss: 1.0826\n"
          ]
        }
      ]
    },
    {
      "cell_type": "code",
      "source": [
        "# Monitoring the training progress\n",
        "\n",
        "\n",
        "\n",
        "# Plot training & validation accuracy\n",
        "plt.plot(history.history['accuracy'], label='Train Accuracy')\n",
        "plt.plot(history.history['val_accuracy'], label='Validation Accuracy')\n",
        "plt.xlabel(\"Epochs\")\n",
        "plt.ylabel(\"Accuracy\")\n",
        "plt.legend()\n",
        "plt.title(\"Model Accuracy\")\n",
        "plt.show()\n",
        "\n",
        "# Plot training & validation loss\n",
        "plt.plot(history.history['loss'], label='Train Loss')\n",
        "plt.plot(history.history['val_loss'], label='Validation Loss')\n",
        "plt.xlabel(\"Epochs\")\n",
        "plt.ylabel(\"Loss\")\n",
        "plt.legend()\n",
        "plt.title(\"Model Loss\")\n",
        "plt.show()\n"
      ],
      "metadata": {
        "colab": {
          "base_uri": "https://localhost:8080/",
          "height": 211
        },
        "id": "c6H4JT0BXHjR",
        "outputId": "88db2c1c-ae7f-4d5e-bbdc-42209e3ebde0"
      },
      "execution_count": 34,
      "outputs": [
        {
          "output_type": "error",
          "ename": "NameError",
          "evalue": "name 'plt' is not defined",
          "traceback": [
            "\u001b[0;31m---------------------------------------------------------------------------\u001b[0m",
            "\u001b[0;31mNameError\u001b[0m                                 Traceback (most recent call last)",
            "\u001b[0;32m<ipython-input-34-318fd09485fe>\u001b[0m in \u001b[0;36m<cell line: 0>\u001b[0;34m()\u001b[0m\n\u001b[1;32m      4\u001b[0m \u001b[0;34m\u001b[0m\u001b[0m\n\u001b[1;32m      5\u001b[0m \u001b[0;31m# Plot training & validation accuracy\u001b[0m\u001b[0;34m\u001b[0m\u001b[0;34m\u001b[0m\u001b[0m\n\u001b[0;32m----> 6\u001b[0;31m \u001b[0mplt\u001b[0m\u001b[0;34m.\u001b[0m\u001b[0mplot\u001b[0m\u001b[0;34m(\u001b[0m\u001b[0mhistory\u001b[0m\u001b[0;34m.\u001b[0m\u001b[0mhistory\u001b[0m\u001b[0;34m[\u001b[0m\u001b[0;34m'accuracy'\u001b[0m\u001b[0;34m]\u001b[0m\u001b[0;34m,\u001b[0m \u001b[0mlabel\u001b[0m\u001b[0;34m=\u001b[0m\u001b[0;34m'Train Accuracy'\u001b[0m\u001b[0;34m)\u001b[0m\u001b[0;34m\u001b[0m\u001b[0;34m\u001b[0m\u001b[0m\n\u001b[0m\u001b[1;32m      7\u001b[0m \u001b[0mplt\u001b[0m\u001b[0;34m.\u001b[0m\u001b[0mplot\u001b[0m\u001b[0;34m(\u001b[0m\u001b[0mhistory\u001b[0m\u001b[0;34m.\u001b[0m\u001b[0mhistory\u001b[0m\u001b[0;34m[\u001b[0m\u001b[0;34m'val_accuracy'\u001b[0m\u001b[0;34m]\u001b[0m\u001b[0;34m,\u001b[0m \u001b[0mlabel\u001b[0m\u001b[0;34m=\u001b[0m\u001b[0;34m'Validation Accuracy'\u001b[0m\u001b[0;34m)\u001b[0m\u001b[0;34m\u001b[0m\u001b[0;34m\u001b[0m\u001b[0m\n\u001b[1;32m      8\u001b[0m \u001b[0mplt\u001b[0m\u001b[0;34m.\u001b[0m\u001b[0mxlabel\u001b[0m\u001b[0;34m(\u001b[0m\u001b[0;34m\"Epochs\"\u001b[0m\u001b[0;34m)\u001b[0m\u001b[0;34m\u001b[0m\u001b[0;34m\u001b[0m\u001b[0m\n",
            "\u001b[0;31mNameError\u001b[0m: name 'plt' is not defined"
          ]
        }
      ]
    },
    {
      "cell_type": "markdown",
      "source": [
        "**Predictions**"
      ],
      "metadata": {
        "id": "Wp1ML5pGrwvl"
      }
    },
    {
      "cell_type": "code",
      "source": [
        "def preprocess_new_text(text):\n",
        "    \"\"\"\n",
        "    Preprocess a new review to match the format used during training.\n",
        "    \"\"\"\n",
        "    text = text.lower()\n",
        "    text = re.sub(r'\\W', ' ', text)\n",
        "    text = re.sub(r'\\s+[a-zA-Z]\\s+', ' ', text)\n",
        "    text = re.sub(r'<.*?>', ' ', text)\n",
        "    text = re.sub(r'\\bbr\\b', ' ', text)\n",
        "    text = re.sub(r'\\s+', ' ', text).strip()\n",
        "    return text"
      ],
      "metadata": {
        "id": "xQ5DbTqXQmP2"
      },
      "execution_count": 35,
      "outputs": []
    },
    {
      "cell_type": "code",
      "source": [
        "def predict_sentiment(review_text):\n",
        "    \"\"\"\n",
        "    Preprocesses, tokenizes, and predicts the sentiment of a new review.\n",
        "    \"\"\"\n",
        "    # Step 1: Preprocess the new text\n",
        "    processed_text = preprocess_new_text(review_text)\n",
        "\n",
        "    # Step 2: Convert to sequence using trained tokenizer\n",
        "    sequence = tokenizer.texts_to_sequences([processed_text])\n",
        "\n",
        "    # Step 3: Pad sequence to match model's input shape\n",
        "    padded_sequence = pad_sequences(sequence, maxlen=300, padding='post', truncating='post')\n",
        "\n",
        "    # Step 4: Make prediction\n",
        "    prediction = model.predict(padded_sequence)\n",
        "\n",
        "    # Step 5: Convert probability to sentiment label\n",
        "    sentiment = \"Positive 😀\" if prediction[0][0] > 0.5 else \"Negative 😠\"\n",
        "\n",
        "    # Step 6: Print result\n",
        "    print(f\"🔹 Review: {review_text}\")\n",
        "    print(f\"🔹 Sentiment: {sentiment} (Confidence: {prediction[0][0]:.4f})\")\n",
        "\n",
        "# Example Usage: Test the model with a new review\n",
        "new_review = \"This movie was absolutely fantastic! The story was gripping and the acting was top-notch.\"\n",
        "predict_sentiment(new_review)\n",
        "\n",
        "new_review2 = \"I hated this movie. The plot was terrible and the acting was so bad it was painful to watch.\"\n",
        "predict_sentiment(new_review2)"
      ],
      "metadata": {
        "colab": {
          "base_uri": "https://localhost:8080/"
        },
        "id": "BC0UNdjlQT5r",
        "outputId": "6ba4816d-4069-48e0-db3e-6f46b2819918"
      },
      "execution_count": 36,
      "outputs": [
        {
          "output_type": "stream",
          "name": "stdout",
          "text": [
            "\u001b[1m1/1\u001b[0m \u001b[32m━━━━━━━━━━━━━━━━━━━━\u001b[0m\u001b[37m\u001b[0m \u001b[1m0s\u001b[0m 316ms/step\n",
            "🔹 Review: This movie was absolutely fantastic! The story was gripping and the acting was top-notch.\n",
            "🔹 Sentiment: Positive 😀 (Confidence: 0.9252)\n",
            "\u001b[1m1/1\u001b[0m \u001b[32m━━━━━━━━━━━━━━━━━━━━\u001b[0m\u001b[37m\u001b[0m \u001b[1m0s\u001b[0m 43ms/step\n",
            "🔹 Review: I hated this movie. The plot was terrible and the acting was so bad it was painful to watch.\n",
            "🔹 Sentiment: Negative 😠 (Confidence: 0.0713)\n"
          ]
        }
      ]
    },
    {
      "cell_type": "markdown",
      "source": [
        "**Possible Improvements**"
      ],
      "metadata": {
        "id": "FrbbqRmAr00l"
      }
    },
    {
      "cell_type": "markdown",
      "source": [
        "- Add attention mechanisms for better focus on key words.\n",
        "\n",
        "- Experiment with transformer-based models (BERT, DistilBERT).\n",
        "\n",
        "- Fine-tune hyperparameters for improved performance."
      ],
      "metadata": {
        "id": "MCeejC4lr3hM"
      }
    }
  ]
}